{
 "cells": [
  {
   "cell_type": "code",
   "execution_count": 22,
   "metadata": {
    "collapsed": true,
    "pycharm": {
     "name": "#%%\n"
    }
   },
   "outputs": [],
   "source": [
    "import pandas as pd\n",
    "import json"
   ]
  },
  {
   "cell_type": "code",
   "execution_count": 23,
   "outputs": [],
   "source": [
    "with open(\"../../Data/Final/sl/karst_slo_stanza_train.json\", 'r') as f:\n",
    "    data = json.load(f)"
   ],
   "metadata": {
    "collapsed": false,
    "pycharm": {
     "name": "#%%\n"
    }
   }
  },
  {
   "cell_type": "code",
   "execution_count": 24,
   "outputs": [],
   "source": [
    "count = {}\n",
    "for i, obj in enumerate(data):\n",
    "    tag = obj[\"relation\"]\n",
    "    if tag in count:\n",
    "        count[tag] += 1\n",
    "    else:\n",
    "        count[tag] = 1\n",
    "\n",
    "sorted_d = dict(sorted(count.items(), key=lambda item: item[1], reverse=True))\n"
   ],
   "metadata": {
    "collapsed": false,
    "pycharm": {
     "name": "#%%\n"
    }
   }
  },
  {
   "cell_type": "code",
   "execution_count": 25,
   "outputs": [],
   "source": [
    "picked = ['GENUS', 'HAS_FORM', 'HAS_LOCATION', 'HAS_CAUSE', 'COMPOSITION_MEDIUM', 'HAS_SIZE', 'HAS_FUNCTION','GENUS_rev', 'HAS_FORM_rev', 'HAS_LOCATION_rev', 'HAS_CAUSE_rev', 'COMPOSITION_MEDIUM_rev', 'HAS_SIZE_rev', 'HAS_FUNCTION_rev']"
   ],
   "metadata": {
    "collapsed": false,
    "pycharm": {
     "name": "#%%\n"
    }
   }
  },
  {
   "cell_type": "code",
   "execution_count": 19,
   "outputs": [],
   "source": [
    "dat = {\"Sentence #\": [], \"Word\": [], \"POS\": [], \"Tag\": []}\n",
    "\n",
    "for i, obj in enumerate(data):\n",
    "    if obj[\"relation\"] not in picked:\n",
    "        continue\n",
    "\n",
    "    dat[\"Sentence #\"].append(\"Sentence: \" + str(i+1))\n",
    "    dat[\"Word\"] = dat[\"Word\"] + obj[\"token\"]\n",
    "    dat[\"POS\"] = dat[\"POS\"] + obj[\"stanford_pos\"]\n",
    "    dat[\"Sentence #\"] = dat[\"Sentence #\"] + [\"\"] * (len(obj[\"token\"]) - 1)\n",
    "\n",
    "    tag = [\"O\"] * len(obj[\"token\"])\n",
    "\n",
    "    tag[obj[\"subj_start\"]] = \"B-\" + obj[\"relation\"]\n",
    "    for i in range(obj[\"subj_start\"]+1, obj[\"subj_end\"] + 1):\n",
    "        tag[i] = \"I-\" + obj[\"relation\"]\n",
    "\n",
    "    tag[obj[\"obj_start\"]] = \"B-DEFINIENDUM\"\n",
    "    for i in range(obj[\"obj_start\"]+1, obj[\"obj_end\"] + 1):\n",
    "        tag[i] = \"I-DEFINIENDUM\"\n",
    "\n",
    "    dat[\"Tag\"] = dat[\"Tag\"] + tag\n",
    "    if len(obj[\"token\"]) != len(obj[\"stanford_pos\"]):\n",
    "        print(\"FAK\")\n",
    "\n",
    "df = pd.DataFrame(dat)\n",
    "df.to_csv(\"./karst_subj_obj_slo_train.csv\", na_rep=\"\", index=False)"
   ],
   "metadata": {
    "collapsed": false,
    "pycharm": {
     "name": "#%%\n"
    }
   }
  },
  {
   "cell_type": "code",
   "execution_count": 26,
   "outputs": [],
   "source": [
    "dat = {\"Sentence #\": [], \"Word\": [], \"POS\": [], \"Tag\": []}\n",
    "\n",
    "for i, obj in enumerate(data):\n",
    "    if obj[\"relation\"] not in picked:\n",
    "        continue\n",
    "\n",
    "    dat[\"Sentence #\"].append(\"Sentence: \" + str(i + 1))\n",
    "    dat[\"Word\"] = dat[\"Word\"] + obj[\"token\"]\n",
    "    dat[\"POS\"] = dat[\"POS\"] + obj[\"stanford_pos\"]\n",
    "    dat[\"Sentence #\"] = dat[\"Sentence #\"] + [\"\"] * (len(obj[\"token\"]) - 1)\n",
    "\n",
    "    tag = [\"O\"] * len(obj[\"token\"])\n",
    "\n",
    "    tag[obj[\"subj_start\"]] = \"B-SUBJ\"\n",
    "    for i in range(obj[\"subj_start\"] + 1, obj[\"subj_end\"] + 1):\n",
    "        tag[i] = \"I-SUBJ\"\n",
    "\n",
    "    tag[obj[\"obj_start\"]] = \"B-OBJ\"\n",
    "    for i in range(obj[\"obj_start\"] + 1, obj[\"obj_end\"] + 1):\n",
    "        tag[i] = \"I-OBJ\"\n",
    "\n",
    "    dat[\"Tag\"] = dat[\"Tag\"] + tag\n",
    "    if len(obj[\"token\"]) != len(obj[\"stanford_pos\"]):\n",
    "        print(\"FAK\")\n",
    "\n",
    "df = pd.DataFrame(dat)\n",
    "df.to_csv(\"./karst_subj_obj_slo_train_subj_obj.csv\", na_rep=\"\", index=False)\n"
   ],
   "metadata": {
    "collapsed": false,
    "pycharm": {
     "name": "#%%\n"
    }
   }
  },
  {
   "cell_type": "code",
   "execution_count": 27,
   "outputs": [
    {
     "name": "stdout",
     "output_type": "stream",
     "text": [
      "asd\n"
     ]
    }
   ],
   "source": [
    "df = pd.DataFrame(dat)\n",
    "df.to_csv(\"./karst_subj_obj_slo_train_subj_obj.csv\", na_rep=\"\", index=False)\n",
    "print(\"asd\")"
   ],
   "metadata": {
    "collapsed": false,
    "pycharm": {
     "name": "#%%\n"
    }
   }
  },
  {
   "cell_type": "code",
   "execution_count": null,
   "outputs": [],
   "source": [],
   "metadata": {
    "collapsed": false,
    "pycharm": {
     "name": "#%%\n"
    }
   }
  }
 ],
 "metadata": {
  "kernelspec": {
   "display_name": "Python 3",
   "language": "python",
   "name": "python3"
  },
  "language_info": {
   "codemirror_mode": {
    "name": "ipython",
    "version": 2
   },
   "file_extension": ".py",
   "mimetype": "text/x-python",
   "name": "python",
   "nbconvert_exporter": "python",
   "pygments_lexer": "ipython2",
   "version": "2.7.6"
  }
 },
 "nbformat": 4,
 "nbformat_minor": 0
}
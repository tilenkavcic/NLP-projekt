{
 "cells": [
  {
   "cell_type": "code",
   "execution_count": 8,
   "metadata": {
    "collapsed": true,
    "pycharm": {
     "name": "#%%\n"
    }
   },
   "outputs": [],
   "source": [
    "import pandas as pd\n",
    "import json\n"
   ]
  },
  {
   "cell_type": "code",
   "execution_count": 10,
   "outputs": [],
   "source": [
    "with open(\"../../Data/Stanza/EN/karst_stanza_data.json\", 'r') as f:\n",
    "    data = json.load(f)"
   ],
   "metadata": {
    "collapsed": false,
    "pycharm": {
     "name": "#%%\n"
    }
   }
  },
  {
   "cell_type": "code",
   "execution_count": 45,
   "outputs": [],
   "source": [
    "dat = {\"Sentence #\": [], \"Word\": [], \"POS\": [], \"Tag\": []}\n",
    "\n",
    "for i, obj in enumerate(data):\n",
    "\n",
    "    dat[\"Sentence #\"].append(\"Sentence: \" + str(i))\n",
    "    dat[\"Word\"] = dat[\"Word\"] + obj[\"token\"]\n",
    "    dat[\"POS\"] = dat[\"POS\"] + obj[\"stanford_pos\"]\n",
    "    dat[\"Sentence #\"] = dat[\"Sentence #\"] + [\"\"] * (len(obj[\"token\"]) - 1)\n",
    "\n",
    "    tag = [\"O\"] * len(obj[\"token\"])\n",
    "    for i in range(obj[\"subj_start\"], obj[\"subj_end\"] + 1):\n",
    "        tag[i] = \"B-\" + obj[\"relation\"]\n",
    "\n",
    "    for i in range(obj[\"obj_start\"], obj[\"obj_end\"] + 1):\n",
    "        tag[i] = \"I-\" + obj[\"relation\"]\n",
    "\n",
    "    dat[\"Tag\"] = dat[\"Tag\"] + tag\n",
    "    if len(obj[\"token\"]) != len(obj[\"stanford_pos\"]):\n",
    "        print(\"FAK\")\n"
   ],
   "metadata": {
    "collapsed": false,
    "pycharm": {
     "name": "#%%\n"
    }
   }
  },
  {
   "cell_type": "code",
   "execution_count": 47,
   "outputs": [],
   "source": [
    "df = pd.DataFrame(dat)\n",
    "df.to_csv(\"./karst_stanza_data.csv\", na_rep=\"\", index=False)"
   ],
   "metadata": {
    "collapsed": false,
    "pycharm": {
     "name": "#%%\n"
    }
   }
  }
 ],
 "metadata": {
  "kernelspec": {
   "display_name": "Python 3",
   "language": "python",
   "name": "python3"
  },
  "language_info": {
   "codemirror_mode": {
    "name": "ipython",
    "version": 2
   },
   "file_extension": ".py",
   "mimetype": "text/x-python",
   "name": "python",
   "nbconvert_exporter": "python",
   "pygments_lexer": "ipython2",
   "version": "2.7.6"
  }
 },
 "nbformat": 4,
 "nbformat_minor": 0
}
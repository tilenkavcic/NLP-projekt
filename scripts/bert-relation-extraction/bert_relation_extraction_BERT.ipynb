{
  "cells": [
    {
      "metadata": {
        "id": "2LsIbIvypku_"
      },
      "cell_type": "markdown",
      "source": [
        "# Relation extraction with BERT\n",
        "\n",
        "---\n",
        "\n",
        "The goal of this repo is to show how to use [BERT](https://arxiv.org/abs/1810.04805)\n",
        "to [extract relation](https://en.wikipedia.org/wiki/Relationship_extraction) from text.\n",
        "\n",
        "Used libraries:\n",
        "- [Transformers](https://huggingface.co/transformers/index.html)\n",
        "- [PyTorch-Lightning](https://pytorch-lightning.readthedocs.io/en/latest/)\n",
        "\n",
        "Used datasets:\n",
        "- SemEval 2010 Task 8 - [paper](https://arxiv.org/pdf/1911.10422.pdf) - [download](https://github.com/sahitya0000/Relation-Classification/blob/master/corpus/SemEval2010_task8_all_data.zip?raw=true)\n",
        "-  Google IISc Distant Supervision (GIDS) - [paper](https://arxiv.org/pdf/1804.06987.pdf) - [download](https://drive.google.com/open?id=1gTNAbv8My2QDmP-OHLFtJFlzPDoCG4aI)"
      ]
    },
    {
      "metadata": {
        "pycharm": {
          "name": "#%% md\n"
        },
        "id": "ZvYdNbQkpkvC"
      },
      "cell_type": "markdown",
      "source": [
        "## Install dependencies\n",
        "\n",
        "This project uses [Python 3.7+](https://www.python.org/downloads/release/python-378/)"
      ]
    },
    {
      "cell_type": "code",
      "source": [
        "!rm -r ./checkpoint"
      ],
      "metadata": {
        "id": "Iak5sH6uQ3fs"
      },
      "execution_count": 1,
      "outputs": []
    },
    {
      "metadata": {
        "pycharm": {
          "name": "#%%\n"
        },
        "trusted": true,
        "collapsed": true,
        "colab": {
          "base_uri": "https://localhost:8080/"
        },
        "id": "grVrnBHApkvD",
        "outputId": "035a9ca1-8d12-4f46-df47-3716e8b9a470"
      },
      "cell_type": "code",
      "source": [
        "!pip install requests numpy pandas \\\n",
        "    scikit-learn pytorch-lightning torch \\\n",
        "    transformers sklearn==0.0 tqdm\n"
      ],
      "execution_count": 1,
      "outputs": [
        {
          "output_type": "stream",
          "name": "stdout",
          "text": [
            "Requirement already satisfied: requests in /usr/local/lib/python3.7/dist-packages (2.23.0)\n",
            "Requirement already satisfied: numpy in /usr/local/lib/python3.7/dist-packages (1.21.6)\n",
            "Requirement already satisfied: pandas in /usr/local/lib/python3.7/dist-packages (1.3.5)\n",
            "Requirement already satisfied: scikit-learn in /usr/local/lib/python3.7/dist-packages (1.0.2)\n",
            "Requirement already satisfied: pytorch-lightning in /usr/local/lib/python3.7/dist-packages (1.6.2)\n",
            "Requirement already satisfied: torch in /usr/local/lib/python3.7/dist-packages (1.11.0+cu113)\n",
            "Requirement already satisfied: transformers in /usr/local/lib/python3.7/dist-packages (4.18.0)\n",
            "Requirement already satisfied: sklearn==0.0 in /usr/local/lib/python3.7/dist-packages (0.0)\n",
            "Requirement already satisfied: tqdm in /usr/local/lib/python3.7/dist-packages (4.64.0)\n",
            "Requirement already satisfied: chardet<4,>=3.0.2 in /usr/local/lib/python3.7/dist-packages (from requests) (3.0.4)\n",
            "Requirement already satisfied: certifi>=2017.4.17 in /usr/local/lib/python3.7/dist-packages (from requests) (2021.10.8)\n",
            "Requirement already satisfied: idna<3,>=2.5 in /usr/local/lib/python3.7/dist-packages (from requests) (2.10)\n",
            "Requirement already satisfied: urllib3!=1.25.0,!=1.25.1,<1.26,>=1.21.1 in /usr/local/lib/python3.7/dist-packages (from requests) (1.24.3)\n",
            "Requirement already satisfied: python-dateutil>=2.7.3 in /usr/local/lib/python3.7/dist-packages (from pandas) (2.8.2)\n",
            "Requirement already satisfied: pytz>=2017.3 in /usr/local/lib/python3.7/dist-packages (from pandas) (2022.1)\n",
            "Requirement already satisfied: six>=1.5 in /usr/local/lib/python3.7/dist-packages (from python-dateutil>=2.7.3->pandas) (1.15.0)\n",
            "Requirement already satisfied: joblib>=0.11 in /usr/local/lib/python3.7/dist-packages (from scikit-learn) (1.1.0)\n",
            "Requirement already satisfied: threadpoolctl>=2.0.0 in /usr/local/lib/python3.7/dist-packages (from scikit-learn) (3.1.0)\n",
            "Requirement already satisfied: scipy>=1.1.0 in /usr/local/lib/python3.7/dist-packages (from scikit-learn) (1.4.1)\n",
            "Requirement already satisfied: torchmetrics>=0.4.1 in /usr/local/lib/python3.7/dist-packages (from pytorch-lightning) (0.8.1)\n",
            "Requirement already satisfied: fsspec[http]!=2021.06.0,>=2021.05.0 in /usr/local/lib/python3.7/dist-packages (from pytorch-lightning) (2022.3.0)\n",
            "Requirement already satisfied: pyDeprecate<0.4.0,>=0.3.1 in /usr/local/lib/python3.7/dist-packages (from pytorch-lightning) (0.3.2)\n",
            "Requirement already satisfied: tensorboard>=2.2.0 in /usr/local/lib/python3.7/dist-packages (from pytorch-lightning) (2.8.0)\n",
            "Requirement already satisfied: typing-extensions>=4.0.0 in /usr/local/lib/python3.7/dist-packages (from pytorch-lightning) (4.2.0)\n",
            "Requirement already satisfied: PyYAML>=5.4 in /usr/local/lib/python3.7/dist-packages (from pytorch-lightning) (6.0)\n",
            "Requirement already satisfied: packaging>=17.0 in /usr/local/lib/python3.7/dist-packages (from pytorch-lightning) (21.3)\n",
            "Requirement already satisfied: aiohttp in /usr/local/lib/python3.7/dist-packages (from fsspec[http]!=2021.06.0,>=2021.05.0->pytorch-lightning) (3.8.1)\n",
            "Requirement already satisfied: pyparsing!=3.0.5,>=2.0.2 in /usr/local/lib/python3.7/dist-packages (from packaging>=17.0->pytorch-lightning) (3.0.8)\n",
            "Requirement already satisfied: grpcio>=1.24.3 in /usr/local/lib/python3.7/dist-packages (from tensorboard>=2.2.0->pytorch-lightning) (1.44.0)\n",
            "Requirement already satisfied: google-auth-oauthlib<0.5,>=0.4.1 in /usr/local/lib/python3.7/dist-packages (from tensorboard>=2.2.0->pytorch-lightning) (0.4.6)\n",
            "Requirement already satisfied: google-auth<3,>=1.6.3 in /usr/local/lib/python3.7/dist-packages (from tensorboard>=2.2.0->pytorch-lightning) (1.35.0)\n",
            "Requirement already satisfied: protobuf>=3.6.0 in /usr/local/lib/python3.7/dist-packages (from tensorboard>=2.2.0->pytorch-lightning) (3.17.3)\n",
            "Requirement already satisfied: setuptools>=41.0.0 in /usr/local/lib/python3.7/dist-packages (from tensorboard>=2.2.0->pytorch-lightning) (57.4.0)\n",
            "Requirement already satisfied: wheel>=0.26 in /usr/local/lib/python3.7/dist-packages (from tensorboard>=2.2.0->pytorch-lightning) (0.37.1)\n",
            "Requirement already satisfied: tensorboard-data-server<0.7.0,>=0.6.0 in /usr/local/lib/python3.7/dist-packages (from tensorboard>=2.2.0->pytorch-lightning) (0.6.1)\n",
            "Requirement already satisfied: werkzeug>=0.11.15 in /usr/local/lib/python3.7/dist-packages (from tensorboard>=2.2.0->pytorch-lightning) (1.0.1)\n",
            "Requirement already satisfied: absl-py>=0.4 in /usr/local/lib/python3.7/dist-packages (from tensorboard>=2.2.0->pytorch-lightning) (1.0.0)\n",
            "Requirement already satisfied: markdown>=2.6.8 in /usr/local/lib/python3.7/dist-packages (from tensorboard>=2.2.0->pytorch-lightning) (3.3.6)\n",
            "Requirement already satisfied: tensorboard-plugin-wit>=1.6.0 in /usr/local/lib/python3.7/dist-packages (from tensorboard>=2.2.0->pytorch-lightning) (1.8.1)\n",
            "Requirement already satisfied: rsa<5,>=3.1.4 in /usr/local/lib/python3.7/dist-packages (from google-auth<3,>=1.6.3->tensorboard>=2.2.0->pytorch-lightning) (4.8)\n",
            "Requirement already satisfied: pyasn1-modules>=0.2.1 in /usr/local/lib/python3.7/dist-packages (from google-auth<3,>=1.6.3->tensorboard>=2.2.0->pytorch-lightning) (0.2.8)\n",
            "Requirement already satisfied: cachetools<5.0,>=2.0.0 in /usr/local/lib/python3.7/dist-packages (from google-auth<3,>=1.6.3->tensorboard>=2.2.0->pytorch-lightning) (4.2.4)\n",
            "Requirement already satisfied: requests-oauthlib>=0.7.0 in /usr/local/lib/python3.7/dist-packages (from google-auth-oauthlib<0.5,>=0.4.1->tensorboard>=2.2.0->pytorch-lightning) (1.3.1)\n",
            "Requirement already satisfied: importlib-metadata>=4.4 in /usr/local/lib/python3.7/dist-packages (from markdown>=2.6.8->tensorboard>=2.2.0->pytorch-lightning) (4.11.3)\n",
            "Requirement already satisfied: zipp>=0.5 in /usr/local/lib/python3.7/dist-packages (from importlib-metadata>=4.4->markdown>=2.6.8->tensorboard>=2.2.0->pytorch-lightning) (3.8.0)\n",
            "Requirement already satisfied: pyasn1<0.5.0,>=0.4.6 in /usr/local/lib/python3.7/dist-packages (from pyasn1-modules>=0.2.1->google-auth<3,>=1.6.3->tensorboard>=2.2.0->pytorch-lightning) (0.4.8)\n",
            "Requirement already satisfied: oauthlib>=3.0.0 in /usr/local/lib/python3.7/dist-packages (from requests-oauthlib>=0.7.0->google-auth-oauthlib<0.5,>=0.4.1->tensorboard>=2.2.0->pytorch-lightning) (3.2.0)\n",
            "Requirement already satisfied: filelock in /usr/local/lib/python3.7/dist-packages (from transformers) (3.6.0)\n",
            "Requirement already satisfied: huggingface-hub<1.0,>=0.1.0 in /usr/local/lib/python3.7/dist-packages (from transformers) (0.5.1)\n",
            "Requirement already satisfied: tokenizers!=0.11.3,<0.13,>=0.11.1 in /usr/local/lib/python3.7/dist-packages (from transformers) (0.12.1)\n",
            "Requirement already satisfied: sacremoses in /usr/local/lib/python3.7/dist-packages (from transformers) (0.0.49)\n",
            "Requirement already satisfied: regex!=2019.12.17 in /usr/local/lib/python3.7/dist-packages (from transformers) (2019.12.20)\n",
            "Requirement already satisfied: multidict<7.0,>=4.5 in /usr/local/lib/python3.7/dist-packages (from aiohttp->fsspec[http]!=2021.06.0,>=2021.05.0->pytorch-lightning) (6.0.2)\n",
            "Requirement already satisfied: asynctest==0.13.0 in /usr/local/lib/python3.7/dist-packages (from aiohttp->fsspec[http]!=2021.06.0,>=2021.05.0->pytorch-lightning) (0.13.0)\n",
            "Requirement already satisfied: attrs>=17.3.0 in /usr/local/lib/python3.7/dist-packages (from aiohttp->fsspec[http]!=2021.06.0,>=2021.05.0->pytorch-lightning) (21.4.0)\n",
            "Requirement already satisfied: charset-normalizer<3.0,>=2.0 in /usr/local/lib/python3.7/dist-packages (from aiohttp->fsspec[http]!=2021.06.0,>=2021.05.0->pytorch-lightning) (2.0.12)\n",
            "Requirement already satisfied: aiosignal>=1.1.2 in /usr/local/lib/python3.7/dist-packages (from aiohttp->fsspec[http]!=2021.06.0,>=2021.05.0->pytorch-lightning) (1.2.0)\n",
            "Requirement already satisfied: yarl<2.0,>=1.0 in /usr/local/lib/python3.7/dist-packages (from aiohttp->fsspec[http]!=2021.06.0,>=2021.05.0->pytorch-lightning) (1.7.2)\n",
            "Requirement already satisfied: async-timeout<5.0,>=4.0.0a3 in /usr/local/lib/python3.7/dist-packages (from aiohttp->fsspec[http]!=2021.06.0,>=2021.05.0->pytorch-lightning) (4.0.2)\n",
            "Requirement already satisfied: frozenlist>=1.1.1 in /usr/local/lib/python3.7/dist-packages (from aiohttp->fsspec[http]!=2021.06.0,>=2021.05.0->pytorch-lightning) (1.3.0)\n",
            "Requirement already satisfied: click in /usr/local/lib/python3.7/dist-packages (from sacremoses->transformers) (7.1.2)\n"
          ]
        }
      ]
    },
    {
      "cell_type": "code",
      "source": [
        "!pip install sentencepiece"
      ],
      "metadata": {
        "colab": {
          "base_uri": "https://localhost:8080/"
        },
        "id": "gkRgBIiFuS5o",
        "outputId": "61f9bf55-41e4-4449-e766-752bb1045b59"
      },
      "execution_count": 2,
      "outputs": [
        {
          "output_type": "stream",
          "name": "stdout",
          "text": [
            "Requirement already satisfied: sentencepiece in /usr/local/lib/python3.7/dist-packages (0.1.96)\n"
          ]
        }
      ]
    },
    {
      "metadata": {
        "id": "tiz3c_HDpkvG"
      },
      "cell_type": "markdown",
      "source": [
        "## Import needed modules"
      ]
    },
    {
      "metadata": {
        "pycharm": {
          "name": "#%% \n"
        },
        "trusted": true,
        "id": "Ihax_H_JpkvG"
      },
      "cell_type": "code",
      "source": [
        "import json\n",
        "import multiprocessing\n",
        "import os\n",
        "import pickle\n",
        "import shutil\n",
        "import zipfile\n",
        "from abc import ABC, abstractmethod\n",
        "from typing import Tuple\n",
        "from urllib.parse import urlparse\n",
        "\n",
        "import requests\n",
        "import torch\n",
        "from pytorch_lightning import LightningModule\n",
        "from pytorch_lightning import Trainer as LightningTrainer\n",
        "from sklearn.metrics import accuracy_score, f1_score, recall_score, precision_score\n",
        "from sklearn.model_selection import train_test_split\n",
        "from sklearn.preprocessing import LabelEncoder\n",
        "from torch import Tensor, nn\n",
        "from torch.nn import functional as F\n",
        "from torch.optim import AdamW\n",
        "from torch.optim.optimizer import Optimizer\n",
        "from torch.utils.data import DataLoader, Dataset\n",
        "from tqdm.auto import tqdm\n",
        "#from transformers import *"
      ],
      "execution_count": 2,
      "outputs": []
    },
    {
      "metadata": {
        "id": "amUO1snapkvH"
      },
      "cell_type": "markdown",
      "source": [
        "## Define constants"
      ]
    },
    {
      "metadata": {
        "id": "gohJfqMRpkvH"
      },
      "cell_type": "markdown",
      "source": [
        "Change the following constant to `False` if you are not running on Kaggle environment:"
      ]
    },
    {
      "metadata": {
        "trusted": true,
        "id": "dYPHl0NGpkvI"
      },
      "cell_type": "code",
      "source": [
        "KAGGLE = False"
      ],
      "execution_count": 3,
      "outputs": []
    },
    {
      "metadata": {
        "id": "Kfq1UZvApkvI"
      },
      "cell_type": "markdown",
      "source": [
        "Other constants:"
      ]
    },
    {
      "metadata": {
        "pycharm": {
          "name": "#%% \n"
        },
        "trusted": true,
        "id": "Zpc_jQZDpkvI"
      },
      "cell_type": "code",
      "source": [
        "from transformers import BertModel, BertTokenizer, DistilBertModel, DistilBertTokenizer, RobertaModel, RobertaTokenizer\n",
        "# --- Directory ---\n",
        "ROOT_DIR = os.path.abspath('.')\n",
        "RAW_DATA_DIR = os.path.join(ROOT_DIR, 'input') if KAGGLE else os.path.join(ROOT_DIR, 'data/raw')\n",
        "PROCESSED_DATA_DIR = os.path.join(ROOT_DIR, 'data/processed') \n",
        "CHECKPOINT_DIR = os.path.join(ROOT_DIR, 'checkpoint')\n",
        "\n",
        "# --- Datasets ---\n",
        "DATASET_MAPPING = {\n",
        "    'SemEval2010Task8': {\n",
        "        'dir': os.path.join(RAW_DATA_DIR,'semeval2010-task-8'),\n",
        "        'url': 'https://github.com/sahitya0000/Relation-Classification/'\n",
        "               'blob/master/corpus/SemEval2010_task8_all_data.zip?raw=true',\n",
        "        'num_classes': 10,\n",
        "    },\n",
        "    'GIDS': {\n",
        "        'dir': os.path.join(RAW_DATA_DIR,'gids_data'),\n",
        "        'url': 'https://drive.google.com/uc?id=1gTNAbv8My2QDmP-OHLFtJFlzPDoCG4aI&export=download',\n",
        "        'num_classes': 5\n",
        "    },\n",
        "    'Karst': {\n",
        "        'dir': os.path.join(RAW_DATA_DIR,'Karst'),\n",
        "        'url':'',\n",
        "        'num_classes':6\n",
        "    }\n",
        "}\n",
        "#DATASET_NAME = 'GIDS'\n",
        "DATASET_NAME = 'Karst'\n",
        "\n",
        "# --- BERT ---\n",
        "SUB_START_CHAR = '{'\n",
        "SUB_END_CHAR = '}'\n",
        "OBJ_START_CHAR = '['\n",
        "OBJ_END_CHAR = ']'\n",
        "\n",
        "# --- BERT Model ---\n",
        "# See https://huggingface.co/transformers/pretrained_models.html for the full list\n",
        "\n",
        "BERT_VARIANT_MAPPING = {\n",
        "    'bert': {\n",
        "        'model': BertModel,\n",
        "        'tokenizer': BertTokenizer,\n",
        "        'pretrain_weight': 'bert-base-uncased',\n",
        "        'available_pretrain_weights': ['bert-base-uncased', 'bert-base-cased']\n",
        "    },\n",
        "    'distilbert': {\n",
        "        'model': DistilBertModel,\n",
        "        'tokenizer': DistilBertTokenizer,\n",
        "        'pretrain_weight': 'distilbert-base-uncased',\n",
        "        'available_pretrain_weights': ['distilbert-base-uncased', 'distilbert-base-cased']\n",
        "    },\n",
        "    'roberta': {\n",
        "        'model': RobertaModel,\n",
        "        'tokenizer': RobertaTokenizer,\n",
        "        'pretrain_weight': 'roberta-base',\n",
        "        'available_pretrain_weights': ['roberta-base', 'distilroberta-base']\n",
        "    },\n",
        "}\n",
        "#BERT_VARIANT = 'distilbert'\n",
        "BERT_VARIANT = 'bert'"
      ],
      "execution_count": 4,
      "outputs": []
    },
    {
      "metadata": {
        "id": "n2l75LuJpkvJ"
      },
      "cell_type": "markdown",
      "source": [
        "## Download data\n",
        "\n",
        "This part **CAN BE SKIPPED** if this notebook is running on Kaggle environment since the dataset has already been included."
      ]
    },
    {
      "metadata": {
        "id": "V-VXfwoZpkvK"
      },
      "cell_type": "markdown",
      "source": [
        "First, we install `gdown` to download files from Google Drive"
      ]
    },
    {
      "metadata": {
        "trusted": true,
        "colab": {
          "base_uri": "https://localhost:8080/"
        },
        "id": "MUvAThIXpkvK",
        "outputId": "291de283-e829-4d11-ae76-6d985587ec3e"
      },
      "cell_type": "code",
      "source": [
        "!pip install gdown\n",
        "import gdown"
      ],
      "execution_count": null,
      "outputs": [
        {
          "output_type": "stream",
          "name": "stdout",
          "text": [
            "Requirement already satisfied: gdown in /usr/local/lib/python3.7/dist-packages (4.4.0)\n",
            "Requirement already satisfied: filelock in /usr/local/lib/python3.7/dist-packages (from gdown) (3.6.0)\n",
            "Requirement already satisfied: requests[socks] in /usr/local/lib/python3.7/dist-packages (from gdown) (2.23.0)\n",
            "Requirement already satisfied: tqdm in /usr/local/lib/python3.7/dist-packages (from gdown) (4.64.0)\n",
            "Requirement already satisfied: six in /usr/local/lib/python3.7/dist-packages (from gdown) (1.15.0)\n",
            "Requirement already satisfied: beautifulsoup4 in /usr/local/lib/python3.7/dist-packages (from gdown) (4.6.3)\n",
            "Requirement already satisfied: chardet<4,>=3.0.2 in /usr/local/lib/python3.7/dist-packages (from requests[socks]->gdown) (3.0.4)\n",
            "Requirement already satisfied: urllib3!=1.25.0,!=1.25.1,<1.26,>=1.21.1 in /usr/local/lib/python3.7/dist-packages (from requests[socks]->gdown) (1.24.3)\n",
            "Requirement already satisfied: certifi>=2017.4.17 in /usr/local/lib/python3.7/dist-packages (from requests[socks]->gdown) (2021.10.8)\n",
            "Requirement already satisfied: idna<3,>=2.5 in /usr/local/lib/python3.7/dist-packages (from requests[socks]->gdown) (2.10)\n",
            "Requirement already satisfied: PySocks!=1.5.7,>=1.5.6 in /usr/local/lib/python3.7/dist-packages (from requests[socks]->gdown) (1.7.1)\n"
          ]
        }
      ]
    },
    {
      "metadata": {
        "id": "BSomg-wfpkvL"
      },
      "cell_type": "markdown",
      "source": [
        "Some download util functions:"
      ]
    },
    {
      "metadata": {
        "pycharm": {
          "name": "#%%\n"
        },
        "trusted": true,
        "id": "fAdXAxaupkvL"
      },
      "cell_type": "code",
      "source": [
        "def download_from_url(url: str, save_path: str, chunk_size: int = 2048) -> None:\n",
        "    with open(save_path, \"wb\") as f:\n",
        "        print(f\"Downloading...\\nFrom: {url}\\nTo: {save_path}\")\n",
        "        response = requests.get(url, stream=True)\n",
        "        for data in tqdm(response.iter_content(chunk_size=chunk_size)):\n",
        "            f.write(data)\n",
        "\n",
        "def download_from_google_drive(url: str, save_path: str) -> None:\n",
        "    gdown.download(url, save_path, use_cookies=False)\n",
        "\n",
        "def extract_zip(zip_file_path: str, extract_dir: str, remove_zip_file=True):\n",
        "    with zipfile.ZipFile(zip_file_path, 'r') as zip_ref:\n",
        "        print(\"Extracting to \" + extract_dir)\n",
        "        zip_ref.extractall(extract_dir)\n",
        "\n",
        "    if remove_zip_file:\n",
        "        print(\"Removing zip file\")\n",
        "        os.unlink(zip_file_path)"
      ],
      "execution_count": null,
      "outputs": []
    },
    {
      "metadata": {
        "pycharm": {
          "name": "#%% md\n"
        },
        "id": "-liV358opkvM"
      },
      "cell_type": "markdown",
      "source": [
        "The download function itself:"
      ]
    },
    {
      "metadata": {
        "pycharm": {
          "name": "#%%\n"
        },
        "trusted": true,
        "id": "XOxQ1I-EpkvM"
      },
      "cell_type": "code",
      "source": [
        "def download(dataset_name, dataset_url, dataset_dir, force_redownload: bool):\n",
        "    print(f\"\\n---> Downloading dataset {dataset_name} <---\")\n",
        "    \n",
        "    # create raw data dir\n",
        "    if not os.path.exists(RAW_DATA_DIR):\n",
        "        print(\"Creating raw data directory \" + RAW_DATA_DIR)\n",
        "        os.makedirs(RAW_DATA_DIR)\n",
        "    \n",
        "    # check data has been downloaded\n",
        "    if os.path.exists(dataset_dir):\n",
        "        if force_redownload:\n",
        "            print(f\"Removing old raw data {dataset_dir}\")\n",
        "            shutil.rmtree(dataset_dir)\n",
        "        else:\n",
        "            print(f\"Directory {dataset_dir} exists, skip downloading.\")\n",
        "            return\n",
        "\n",
        "\n",
        "    # download\n",
        "    tmp_file_path = os.path.join(RAW_DATA_DIR, dataset_name + '.zip')\n",
        "    if urlparse(dataset_url).netloc == 'drive.google.com':\n",
        "        download_from_google_drive(dataset_url, tmp_file_path)\n",
        "    else:\n",
        "        download_from_url(dataset_url, tmp_file_path)\n",
        "\n",
        "    # unzip\n",
        "    extract_zip(tmp_file_path, RAW_DATA_DIR)"
      ],
      "execution_count": null,
      "outputs": []
    },
    {
      "metadata": {
        "pycharm": {
          "name": "#%% md\n"
        },
        "id": "0r1fc8PDpkvM"
      },
      "cell_type": "markdown",
      "source": [
        "Download all datasets:"
      ]
    },
    {
      "metadata": {
        "pycharm": {
          "name": "#%%\n"
        },
        "trusted": true,
        "collapsed": true,
        "colab": {
          "base_uri": "https://localhost:8080/",
          "height": 327,
          "referenced_widgets": [
            "7e18d6a228644830947bb790e22e0c93",
            "1a0dc31926eb4f2ab619ce4d60e937ac",
            "4e51e94dd0734edab0d0c97de257b99a",
            "ee80fe9fc3cb47559bfa777fe0126a1b",
            "29512ab6ddd046d1ba75230946111a82",
            "96a620443bc5473cb04b345766840d6e",
            "ba223a7110a340d988cd1ecfc6f7c5d1",
            "f222ce2908c94c57bcd0ae3d13f98037",
            "b0f5d65d620541e0befac8e03bf41c60",
            "af130e4ebac54a16a309ba4c34c16d78",
            "214d699c05ba4662a4b7a41d3f63dd62"
          ]
        },
        "id": "omJKjG0bpkvM",
        "outputId": "aca79cb5-2381-4115-f02c-7bb44ca808d0"
      },
      "cell_type": "code",
      "source": [
        "for dataset_name, dataset_info in DATASET_MAPPING.items():\n",
        "    download(\n",
        "        dataset_name,\n",
        "        dataset_url=dataset_info['url'],\n",
        "        dataset_dir=dataset_info['dir'],\n",
        "        force_redownload=False\n",
        "    )"
      ],
      "execution_count": null,
      "outputs": [
        {
          "output_type": "stream",
          "name": "stdout",
          "text": [
            "\n",
            "---> Downloading dataset SemEval2010Task8 <---\n",
            "Creating raw data directory /content/data/raw\n",
            "Downloading...\n",
            "From: https://github.com/sahitya0000/Relation-Classification/blob/master/corpus/SemEval2010_task8_all_data.zip?raw=true\n",
            "To: /content/data/raw/SemEval2010Task8.zip\n"
          ]
        },
        {
          "output_type": "display_data",
          "data": {
            "text/plain": [
              "0it [00:00, ?it/s]"
            ],
            "application/vnd.jupyter.widget-view+json": {
              "version_major": 2,
              "version_minor": 0,
              "model_id": "7e18d6a228644830947bb790e22e0c93"
            }
          },
          "metadata": {}
        },
        {
          "output_type": "stream",
          "name": "stdout",
          "text": [
            "Extracting to /content/data/raw\n",
            "Removing zip file\n",
            "\n",
            "---> Downloading dataset GIDS <---\n"
          ]
        },
        {
          "output_type": "stream",
          "name": "stderr",
          "text": [
            "Downloading...\n",
            "From: https://drive.google.com/uc?id=1gTNAbv8My2QDmP-OHLFtJFlzPDoCG4aI&export=download\n",
            "To: /content/data/raw/GIDS.zip\n",
            "100%|██████████| 76.4M/76.4M [00:00<00:00, 135MB/s]\n"
          ]
        },
        {
          "output_type": "stream",
          "name": "stdout",
          "text": [
            "Extracting to /content/data/raw\n",
            "Removing zip file\n"
          ]
        }
      ]
    },
    {
      "metadata": {
        "pycharm": {
          "name": "#%% md\n"
        },
        "id": "qRL2PUD8pkvN"
      },
      "cell_type": "markdown",
      "source": [
        "## Preprocess\n",
        "\n",
        "The abstract preprocessor"
      ]
    },
    {
      "metadata": {
        "pycharm": {
          "name": "#%%\n"
        },
        "trusted": true,
        "id": "BMwyS1O8pkvN"
      },
      "cell_type": "code",
      "source": [
        "from transformers import PreTrainedTokenizer\n",
        "class AbstractPreprocessor(ABC):\n",
        "    DATASET_NAME = ''\n",
        "\n",
        "    def __init__(self, tokenizer: PreTrainedTokenizer):\n",
        "        self.tokenizer = tokenizer\n",
        "\n",
        "    def preprocess_data(self, reprocess: bool):\n",
        "        print(f\"\\n---> Preprocessing {self.DATASET_NAME} dataset <---\")\n",
        "        \n",
        "        # create processed data dir\n",
        "        if not os.path.exists(PROCESSED_DATA_DIR):\n",
        "            print(\"Creating processed data directory \" + PROCESSED_DATA_DIR)\n",
        "            os.makedirs(PROCESSED_DATA_DIR)\n",
        "\n",
        "        # stop preprocessing if file existed\n",
        "        pickled_file_names = [self.get_pickle_file_name(k) for k in ('train', 'val', 'test')]\n",
        "        existed_files = [fn for fn in pickled_file_names if os.path.exists(fn)]\n",
        "        if existed_files:\n",
        "            file_text = \"- \" + \"\\n- \".join(existed_files)\n",
        "            if not reprocess:\n",
        "                print(\"The following files already exist:\")\n",
        "                print(file_text)\n",
        "                print(\"Preprocessing is skipped. See option --reprocess.\")\n",
        "                return\n",
        "            else:\n",
        "                print(\"The following files will be overwritten:\")\n",
        "                print(file_text)\n",
        "\n",
        "        self._preprocess_data()\n",
        "\n",
        "    @abstractmethod\n",
        "    def _preprocess_data(self):\n",
        "        pass\n",
        "\n",
        "    def _pickle_data(self, data, file_name):\n",
        "        print(f\"Saving to pickle file {file_name}\")\n",
        "        with open(file_name, 'wb') as f:\n",
        "            pickle.dump(data, f)\n",
        "\n",
        "    @classmethod\n",
        "    def get_pickle_file_name(cls, key: str):\n",
        "        return os.path.join(PROCESSED_DATA_DIR, f'{cls.DATASET_NAME.lower()}_{key}.pkl')"
      ],
      "execution_count": 5,
      "outputs": []
    },
    {
      "metadata": {
        "pycharm": {
          "name": "#%% md\n"
        },
        "id": "ztMd8FfFpkvN"
      },
      "cell_type": "markdown",
      "source": [
        "For each dataset, define a preprocessor:"
      ]
    },
    {
      "metadata": {
        "pycharm": {
          "name": "#%%\n"
        },
        "trusted": true,
        "id": "bQxyulTSpkvO"
      },
      "cell_type": "code",
      "source": [
        "class KarstPreprocessor(AbstractPreprocessor):\n",
        "    DATASET_NAME = 'Karst'\n",
        "    RAW_TRAIN_FILE_NAME = os.path.join(DATASET_MAPPING['Karst']['dir'],\n",
        "                                       'SEM_EVAL_FILE_KARST_TRAIN.txt')\n",
        "    RAW_TEST_FILE_NAME = os.path.join(DATASET_MAPPING['Karst']['dir'],\n",
        "                                      'SEM_EVAL_FILE_KARST_TEST.txt')\n",
        "    RAW_TRAIN_DATA_SIZE = 826\n",
        "    RAW_TEST_DATA_SIZE = 354\n",
        "    RANDOM_SEED = 2020\n",
        "    VAL_DATA_PROPORTION = 0.1\n",
        "\n",
        "    def _preprocess_data(self):\n",
        "        print(\"Processing training data\")\n",
        "        train_data = self._get_data_from_file(\n",
        "            self.RAW_TRAIN_FILE_NAME,\n",
        "            self.RAW_TRAIN_DATA_SIZE\n",
        "        )\n",
        "\n",
        "        print(\"Processing test data\")\n",
        "        test_data = self._get_data_from_file(\n",
        "            self.RAW_TEST_FILE_NAME,\n",
        "            self.RAW_TEST_DATA_SIZE\n",
        "        )\n",
        "\n",
        "        print(\"Encoding labels to integers\")\n",
        "        le = LabelEncoder()\n",
        "        le.fit(train_data['labels'])\n",
        "        train_data['labels'] = le.transform(train_data['labels']).tolist()\n",
        "        test_data['labels'] = le.transform(test_data['labels']).tolist()\n",
        "\n",
        "        print(\"Splitting train & validate data\")\n",
        "        train_data, val_data = self._train_val_split(train_data)\n",
        "\n",
        "        self._pickle_data(train_data, self.get_pickle_file_name('train'))\n",
        "        self._pickle_data(val_data, self.get_pickle_file_name('val'))\n",
        "        self._pickle_data(test_data, self.get_pickle_file_name('test'))\n",
        "\n",
        "    def _train_val_split(self, original_data):\n",
        "        k = list(original_data.keys())[0]\n",
        "        indies = list(range(len(original_data[k])))\n",
        "        train_indies, val_indies = train_test_split(\n",
        "            indies,\n",
        "            test_size=self.VAL_DATA_PROPORTION,\n",
        "            random_state=self.RANDOM_SEED\n",
        "        )\n",
        "        train_data = {k: self._get_sample(v, train_indies) for k, v in original_data.items()}\n",
        "        val_data = {k: self._get_sample(v, val_indies) for k, v in original_data.items()}\n",
        "\n",
        "        return train_data, val_data\n",
        "\n",
        "    def _get_sample(self, data, indies):\n",
        "        return [data[i] for i in indies]\n",
        "\n",
        "    def _get_data_from_file(self, file_name: str, dataset_size: int):\n",
        "        raw_sentences = []\n",
        "        labels = []\n",
        "        with open(file_name) as f:\n",
        "            for _ in tqdm(range(dataset_size)):\n",
        "                raw_sentences.append(self._process_sentence(f.readline()))\n",
        "                labels.append(self._process_label(f.readline()))\n",
        "                f.readline()\n",
        "                f.readline()\n",
        "        data = self.tokenizer(raw_sentences, truncation=True, padding=True)\n",
        "        data['labels'] = labels\n",
        "        return data\n",
        "\n",
        "    def _process_sentence(self, sentence: str):\n",
        "        # TODO distinguish e1 e2 sub obj\n",
        "        return sentence.split(\"\\t\")[1][1:-2] \\\n",
        "            .replace(\"<e1>\", SUB_START_CHAR) \\\n",
        "            .replace(\"</e1>\", SUB_END_CHAR) \\\n",
        "            .replace(\"<e2>\", OBJ_START_CHAR) \\\n",
        "            .replace(\"</e2>\", OBJ_END_CHAR)\n",
        "\n",
        "    def _process_label(self, label: str):\n",
        "        return label[:-8]\n",
        "\n",
        "class SemEval2010Task8Preprocessor(AbstractPreprocessor):\n",
        "    DATASET_NAME = 'SemEval2010Task8'\n",
        "    RAW_TRAIN_FILE_NAME = os.path.join(DATASET_MAPPING['SemEval2010Task8']['dir'],\n",
        "                                       'SemEval2010_task8_training/TRAIN_FILE.TXT')\n",
        "    RAW_TEST_FILE_NAME = os.path.join(DATASET_MAPPING['SemEval2010Task8']['dir'],\n",
        "                                      'SemEval2010_task8_testing_keys/TEST_FILE_FULL.TXT')\n",
        "    RAW_TRAIN_DATA_SIZE = 8000\n",
        "    RAW_TEST_DATA_SIZE = 2717\n",
        "    RANDOM_SEED = 2020\n",
        "    VAL_DATA_PROPORTION = 0.2\n",
        "\n",
        "    def _preprocess_data(self):\n",
        "        print(\"Processing training data\")\n",
        "        train_data = self._get_data_from_file(\n",
        "            self.RAW_TRAIN_FILE_NAME,\n",
        "            self.RAW_TRAIN_DATA_SIZE\n",
        "        )\n",
        "\n",
        "        print(\"Processing test data\")\n",
        "        test_data = self._get_data_from_file(\n",
        "            self.RAW_TEST_FILE_NAME,\n",
        "            self.RAW_TEST_DATA_SIZE\n",
        "        )\n",
        "\n",
        "        print(\"Encoding labels to integers\")\n",
        "        le = LabelEncoder()\n",
        "        le.fit(train_data['labels'])\n",
        "        train_data['labels'] = le.transform(train_data['labels']).tolist()\n",
        "        test_data['labels'] = le.transform(test_data['labels']).tolist()\n",
        "\n",
        "        print(\"Splitting train & validate data\")\n",
        "        train_data, val_data = self._train_val_split(train_data)\n",
        "\n",
        "        self._pickle_data(train_data, self.get_pickle_file_name('train'))\n",
        "        self._pickle_data(val_data, self.get_pickle_file_name('val'))\n",
        "        self._pickle_data(test_data, self.get_pickle_file_name('test'))\n",
        "\n",
        "    def _train_val_split(self, original_data):\n",
        "        k = list(original_data.keys())[0]\n",
        "        indies = list(range(len(original_data[k])))\n",
        "        train_indies, val_indies = train_test_split(\n",
        "            indies,\n",
        "            test_size=self.VAL_DATA_PROPORTION,\n",
        "            random_state=self.RANDOM_SEED\n",
        "        )\n",
        "        train_data = {k: self._get_sample(v, train_indies) for k, v in original_data.items()}\n",
        "        val_data = {k: self._get_sample(v, val_indies) for k, v in original_data.items()}\n",
        "\n",
        "        return train_data, val_data\n",
        "\n",
        "    def _get_sample(self, data, indies):\n",
        "        return [data[i] for i in indies]\n",
        "\n",
        "    def _get_data_from_file(self, file_name: str, dataset_size: int):\n",
        "        raw_sentences = []\n",
        "        labels = []\n",
        "        with open(file_name) as f:\n",
        "            for _ in tqdm(range(dataset_size)):\n",
        "                raw_sentences.append(self._process_sentence(f.readline()))\n",
        "                labels.append(self._process_label(f.readline()))\n",
        "                f.readline()\n",
        "                f.readline()\n",
        "        data = self.tokenizer(raw_sentences, truncation=True, padding=True)\n",
        "        data['labels'] = labels\n",
        "        return data\n",
        "\n",
        "    def _process_sentence(self, sentence: str):\n",
        "        # TODO distinguish e1 e2 sub obj\n",
        "        return sentence.split(\"\\t\")[1][1:-2] \\\n",
        "            .replace(\"<e1>\", SUB_START_CHAR) \\\n",
        "            .replace(\"</e1>\", SUB_END_CHAR) \\\n",
        "            .replace(\"<e2>\", OBJ_START_CHAR) \\\n",
        "            .replace(\"</e2>\", OBJ_END_CHAR)\n",
        "\n",
        "    def _process_label(self, label: str):\n",
        "        return label[:-8]\n",
        "\n",
        "\n",
        "class GIDSPreprocessor(AbstractPreprocessor):\n",
        "    DATASET_NAME = 'GIDS'\n",
        "    RAW_TRAIN_FILE_NAME = os.path.join(DATASET_MAPPING['GIDS']['dir'], 'gids_train.json')\n",
        "    RAW_VAL_FILE_NAME = os.path.join(DATASET_MAPPING['GIDS']['dir'], 'gids_dev.json')\n",
        "    RAW_TEST_FILE_NAME = os.path.join(DATASET_MAPPING['GIDS']['dir'], 'gids_test.json')\n",
        "\n",
        "    def _preprocess_data(self):\n",
        "        print(\"Processing validate data\")\n",
        "        val_data = self._get_data_from_file(self.RAW_VAL_FILE_NAME)\n",
        "        le = LabelEncoder()\n",
        "        le.fit(val_data['labels'])\n",
        "        val_data['labels'] = le.transform(val_data['labels']).tolist()\n",
        "        self._pickle_data(val_data, self.get_pickle_file_name('val'))\n",
        "        del val_data\n",
        "\n",
        "        print(\"Processing train data\")\n",
        "        train_data = self._get_data_from_file(self.RAW_TRAIN_FILE_NAME)\n",
        "        train_data['labels'] = le.transform(train_data['labels']).tolist()\n",
        "        self._pickle_data(train_data, self.get_pickle_file_name('train'))\n",
        "        del train_data\n",
        "        \n",
        "        print(\"Processing test data\")\n",
        "        test_data = self._get_data_from_file(self.RAW_TEST_FILE_NAME)\n",
        "        test_data['labels'] = le.transform(test_data['labels']).tolist()\n",
        "        self._pickle_data(test_data, self.get_pickle_file_name('test'))\n",
        "        del test_data\n",
        "\n",
        "    def _get_data_from_file(self, file_name: str):\n",
        "        raw_sentences = []\n",
        "        labels = []\n",
        "        with open(file_name) as f:\n",
        "            for line in tqdm(f.readlines()):\n",
        "                dt = json.loads(line)\n",
        "                sentence = \" \".join(dt['sent'])\n",
        "\n",
        "                # add subject markup\n",
        "                new_sub = SUB_START_CHAR + dt['sub'].replace('_', '') + SUB_END_CHAR # TODO keep _ or not?\n",
        "                new_obj = OBJ_START_CHAR + dt['obj'].replace('_', '') + OBJ_END_CHAR\n",
        "                sentence = sentence.replace(dt['sub'], new_sub).replace(dt['obj'], new_obj)\n",
        "                raw_sentences.append(sentence)\n",
        "                labels.append(dt['rel'])\n",
        "        data = self.tokenizer(raw_sentences, truncation=True, padding=True)\n",
        "        data['labels'] = labels\n",
        "        return data"
      ],
      "execution_count": 6,
      "outputs": []
    },
    {
      "metadata": {
        "pycharm": {
          "name": "#%% md\n"
        },
        "id": "NR43tU6JpkvP"
      },
      "cell_type": "markdown",
      "source": [
        "Factory function to get preprocessor:"
      ]
    },
    {
      "metadata": {
        "pycharm": {
          "name": "#%%\n"
        },
        "trusted": true,
        "id": "niU8J9ZGpkvP"
      },
      "cell_type": "code",
      "source": [
        "def get_preprocessor_class(dataset_name: str):\n",
        "    return globals()[f'{dataset_name}Preprocessor']\n",
        "\n",
        "def get_preprocessor(dataset_name: str)-> AbstractPreprocessor:\n",
        "    bert_model_info = BERT_VARIANT_MAPPING[BERT_VARIANT]\n",
        "    bert_pretrain_weight = bert_model_info['pretrain_weight']\n",
        "    tokenizer = bert_model_info['tokenizer'].from_pretrained(bert_pretrain_weight)\n",
        "    preprocessors_class = get_preprocessor_class(dataset_name)\n",
        "    return preprocessors_class(tokenizer)"
      ],
      "execution_count": 7,
      "outputs": []
    },
    {
      "metadata": {
        "id": "d35ukoUxpkvP"
      },
      "cell_type": "markdown",
      "source": [
        "Preprocess data:"
      ]
    },
    {
      "metadata": {
        "pycharm": {
          "name": "#%%\n"
        },
        "trusted": true,
        "colab": {
          "base_uri": "https://localhost:8080/"
        },
        "id": "xv33K-pQpkvP",
        "outputId": "a17ced05-e5d6-415c-cccc-32761838f9d4"
      },
      "cell_type": "code",
      "source": [
        "preprocessor = get_preprocessor(DATASET_NAME)\n",
        "preprocessor.preprocess_data(reprocess=False)"
      ],
      "execution_count": 8,
      "outputs": [
        {
          "output_type": "stream",
          "name": "stdout",
          "text": [
            "\n",
            "---> Preprocessing Karst dataset <---\n",
            "The following files already exist:\n",
            "- /content/data/processed/karst_train.pkl\n",
            "- /content/data/processed/karst_val.pkl\n",
            "- /content/data/processed/karst_test.pkl\n",
            "Preprocessing is skipped. See option --reprocess.\n"
          ]
        }
      ]
    },
    {
      "metadata": {
        "pycharm": {
          "name": "#%% md\n"
        },
        "id": "pJBYN8lhpkvQ"
      },
      "cell_type": "markdown",
      "source": [
        "## Model\n",
        "\n",
        "### Dataset"
      ]
    },
    {
      "metadata": {
        "pycharm": {
          "name": "#%%\n"
        },
        "trusted": true,
        "id": "YWfAAfyHpkvQ"
      },
      "cell_type": "code",
      "source": [
        "class GenericDataset(Dataset):\n",
        "\n",
        "    def __init__(self, dataset_name: str, subset: str):\n",
        "        preprocessor_class = get_preprocessor_class(dataset_name)\n",
        "        if subset not in ['train', 'val', 'test']:\n",
        "            raise ValueError('subset must be train, val or test')\n",
        "        with open(preprocessor_class.get_pickle_file_name(subset), 'rb') as f:\n",
        "            self.data = pickle.load(f)\n",
        "\n",
        "    def __getitem__(self, index: int) -> Tuple[Tensor, Tensor, Tensor]:\n",
        "        return (torch.tensor(self.data['input_ids'][index]),\n",
        "                torch.tensor(self.data['attention_mask'][index]),\n",
        "                torch.tensor(self.data['labels'][index]))\n",
        "\n",
        "    def __len__(self) -> int:\n",
        "        return len(self.data['labels'])"
      ],
      "execution_count": 9,
      "outputs": []
    },
    {
      "metadata": {
        "pycharm": {
          "name": "#%% md\n"
        },
        "id": "X0npu3a_pkvR"
      },
      "cell_type": "markdown",
      "source": [
        "### Torch Lightning Module"
      ]
    },
    {
      "metadata": {
        "pycharm": {
          "name": "#%%\n"
        },
        "trusted": true,
        "id": "XJAo17PhpkvR"
      },
      "cell_type": "code",
      "source": [
        "class BERTModule(LightningModule):\n",
        "\n",
        "    def __init__(self, bert_variant, dataset_name, batch_size, learning_rate):\n",
        "        super().__init__()\n",
        "        self.save_hyperparameters()\n",
        "\n",
        "        bert_info = BERT_VARIANT_MAPPING[bert_variant]\n",
        "        bert_model_class = bert_info['model']\n",
        "        bert_pretrain_weight = bert_info['pretrain_weight']\n",
        "        self.bert = bert_model_class.from_pretrained(bert_pretrain_weight, output_attentions=True)\n",
        "\n",
        "        dataset_info = DATASET_MAPPING[dataset_name]\n",
        "        self.num_classes = dataset_info['num_classes']\n",
        "        self.linear = nn.Linear(self.bert.config.hidden_size, self.num_classes)\n",
        "\n",
        "    def train_dataloader(self) -> DataLoader:\n",
        "        return self.__get_dataloader('train')\n",
        "\n",
        "    def val_dataloader(self) -> DataLoader:\n",
        "        return self.__get_dataloader('val')\n",
        "\n",
        "    def test_dataloader(self) -> DataLoader:\n",
        "        return self.__get_dataloader('test')\n",
        "\n",
        "    def __get_dataloader(self, subset: str) -> DataLoader:\n",
        "        print(f\"Loading {subset} data\")\n",
        "        return DataLoader(\n",
        "            GenericDataset(self.hparams.dataset_name, subset),\n",
        "            batch_size=self.hparams.batch_size,\n",
        "            shuffle=(subset == 'train'),\n",
        "            num_workers=multiprocessing.cpu_count() + 1\n",
        "        )\n",
        "\n",
        "    def configure_optimizers(self) -> Optimizer:\n",
        "        return AdamW(\n",
        "            [p for p in self.parameters() if p.requires_grad],\n",
        "            lr=self.hparams.learning_rate,\n",
        "            eps=1e-08\n",
        "        )\n",
        "\n",
        "    def forward(self, input_ids, attention_mask) -> Tensor:\n",
        "        #bert_output, cc \n",
        "        aa = self.bert(\n",
        "            input_ids=input_ids,\n",
        "            attention_mask=attention_mask\n",
        "        )\n",
        "        bert_output = aa[\"last_hidden_state\"]\n",
        "        #print(bert_output)\n",
        "        #breakpoint()\n",
        "        bert_cls = bert_output[:, 0]\n",
        "        #print(bert_cls)\n",
        "        logits = self.linear(bert_cls)\n",
        "        return logits\n",
        "\n",
        "    def training_step(self, batch, batch_nb) -> dict:\n",
        "        input_ids, attention_mask, label = batch\n",
        "\n",
        "        y_hat = self(input_ids, attention_mask)\n",
        "\n",
        "        loss = F.cross_entropy(y_hat, label)\n",
        "        tensorboard_logs = {'train_loss': loss}\n",
        "\n",
        "        return {'loss': loss, 'log': tensorboard_logs}\n",
        "\n",
        "    def validation_step(self, batch, batch_nb) -> dict:\n",
        "        input_ids, attention_mask, label = batch\n",
        "\n",
        "        y_hat = self(input_ids, attention_mask)\n",
        "\n",
        "        loss = F.cross_entropy(y_hat, label)\n",
        "\n",
        "        a, y_hat = torch.max(y_hat, dim=1)\n",
        "        y_hat = y_hat.cpu()\n",
        "        label = label.cpu()\n",
        "\n",
        "        return {\n",
        "            'val_loss': loss,\n",
        "            'val_pre': torch.tensor(precision_score(label, y_hat, average='weighted')),\n",
        "            'val_rec': torch.tensor(recall_score(label, y_hat, average='weighted')),\n",
        "            'val_acc': torch.tensor(accuracy_score(label, y_hat)),\n",
        "            'val_f1': torch.tensor(f1_score(label, y_hat, average='weighted'))\n",
        "        }\n",
        "\n",
        "    def validation_epoch_end(self, outputs) -> dict:\n",
        "        avg_val_loss = torch.stack([x['val_loss'] for x in outputs]).mean()\n",
        "        avg_val_pre = torch.stack([x['val_pre'] for x in outputs]).mean()\n",
        "        avg_val_rec = torch.stack([x['val_rec'] for x in outputs]).mean()\n",
        "        avg_val_acc = torch.stack([x['val_acc'] for x in outputs]).mean()\n",
        "        avg_val_f1 = torch.stack([x['val_f1'] for x in outputs]).mean()\n",
        "\n",
        "        tensorboard_logs = {\n",
        "            'val_loss': avg_val_loss,\n",
        "            'avg_val_pre': avg_val_pre,\n",
        "            'avg_val_rec': avg_val_rec,\n",
        "            'avg_val_acc': avg_val_acc,\n",
        "            'avg_val_f1': avg_val_f1,\n",
        "        }\n",
        "        print(tensorboard_logs)\n",
        "        return {'val_loss': avg_val_loss, 'progress_bar': tensorboard_logs}\n",
        "\n",
        "    def test_step(self, batch, batch_nb) -> dict:\n",
        "        input_ids, attention_mask, label = batch\n",
        "\n",
        "        y_hat = self(input_ids, attention_mask)\n",
        "        a, y_hat = torch.max(y_hat, dim=1)\n",
        "        \n",
        "        y_hat = y_hat.cpu()\n",
        "        label = label.cpu()\n",
        "        \n",
        "        test_pre = precision_score(label, y_hat, average='weighted')\n",
        "        test_rec = recall_score(label, y_hat, average='weighted')\n",
        "        test_acc = accuracy_score(label, y_hat)\n",
        "        test_f1 = f1_score(label, y_hat, average='weighted')\n",
        "\n",
        "        return {\n",
        "            'test_pre': torch.tensor(test_pre),\n",
        "            'test_rec': torch.tensor(test_rec),\n",
        "            'test_acc': torch.tensor(test_acc),\n",
        "            'test_f1': torch.tensor(test_f1),\n",
        "        }\n",
        "\n",
        "    def test_epoch_end(self, outputs) -> dict:\n",
        "        avg_test_pre = torch.stack([x['test_pre'] for x in outputs]).mean()\n",
        "        avg_test_rec = torch.stack([x['test_rec'] for x in outputs]).mean()\n",
        "        avg_test_acc = torch.stack([x['test_acc'] for x in outputs]).mean()\n",
        "        avg_test_f1 = torch.stack([x['test_f1'] for x in outputs]).mean()\n",
        "\n",
        "        tensorboard_logs = {\n",
        "            'avg_test_pre': avg_test_pre,\n",
        "            'avg_test_rec': avg_test_rec,\n",
        "            'avg_test_acc': avg_test_acc,\n",
        "            'avg_test_f1': avg_test_f1,\n",
        "        }\n",
        "        print(tensorboard_logs)\n",
        "        return {'progress_bar': tensorboard_logs}"
      ],
      "execution_count": 10,
      "outputs": []
    },
    {
      "metadata": {
        "id": "obJoU62wpkvR"
      },
      "cell_type": "markdown",
      "source": [
        "\n",
        "\n",
        "## Trainer"
      ]
    },
    {
      "metadata": {
        "pycharm": {
          "name": "#%%\n"
        },
        "trusted": true,
        "colab": {
          "base_uri": "https://localhost:8080/"
        },
        "id": "YPBE6PNQpkvS",
        "outputId": "0e8b7af0-b6e1-4752-b36e-4c68b146710d"
      },
      "cell_type": "code",
      "source": [
        "GPUS = 1\n",
        "MIN_EPOCHS = 3\n",
        "MAX_EPOCHS = 5\n",
        "\n",
        "trainer = LightningTrainer(\n",
        "    gpus=GPUS,\n",
        "    min_epochs=MIN_EPOCHS,\n",
        "    max_epochs=MAX_EPOCHS,\n",
        "    default_root_dir=CHECKPOINT_DIR,\n",
        ")"
      ],
      "execution_count": 11,
      "outputs": [
        {
          "output_type": "stream",
          "name": "stderr",
          "text": [
            "GPU available: True, used: True\n",
            "TPU available: False, using: 0 TPU cores\n",
            "IPU available: False, using: 0 IPUs\n",
            "HPU available: False, using: 0 HPUs\n"
          ]
        }
      ]
    },
    {
      "metadata": {
        "id": "IKY8LGSvpkvS"
      },
      "cell_type": "markdown",
      "source": [
        "## Training"
      ]
    },
    {
      "metadata": {
        "trusted": true,
        "colab": {
          "base_uri": "https://localhost:8080/"
        },
        "id": "l7Pkrg7cpkvS",
        "outputId": "05bdb677-23b4-4fa4-e8cc-209aa47fce4c"
      },
      "cell_type": "code",
      "source": [
        "BATCH_SIZE = 16\n",
        "LEARNING_RATE = 2e-05\n",
        "\n",
        "model = BERTModule(\n",
        "    bert_variant=BERT_VARIANT,\n",
        "    dataset_name=DATASET_NAME,\n",
        "    batch_size=BATCH_SIZE,\n",
        "    learning_rate=LEARNING_RATE\n",
        ")"
      ],
      "execution_count": 12,
      "outputs": [
        {
          "output_type": "stream",
          "name": "stderr",
          "text": [
            "Some weights of the model checkpoint at bert-base-uncased were not used when initializing BertModel: ['cls.predictions.transform.LayerNorm.weight', 'cls.predictions.transform.dense.weight', 'cls.predictions.decoder.weight', 'cls.seq_relationship.bias', 'cls.predictions.transform.LayerNorm.bias', 'cls.predictions.bias', 'cls.seq_relationship.weight', 'cls.predictions.transform.dense.bias']\n",
            "- This IS expected if you are initializing BertModel from the checkpoint of a model trained on another task or with another architecture (e.g. initializing a BertForSequenceClassification model from a BertForPreTraining model).\n",
            "- This IS NOT expected if you are initializing BertModel from the checkpoint of a model that you expect to be exactly identical (initializing a BertForSequenceClassification model from a BertForSequenceClassification model).\n"
          ]
        }
      ]
    },
    {
      "metadata": {
        "pycharm": {
          "name": "#%%\n"
        },
        "trusted": true,
        "colab": {
          "base_uri": "https://localhost:8080/",
          "height": 972,
          "referenced_widgets": [
            "f486ad9b3a5b4ce09234f0280152315b",
            "a9f7807dce224663b5fac62790378599",
            "a762f4bf055b40c0912c775457bc0a12",
            "b4b55badae2c415aaf209857bea886a7",
            "b642804d291b4f27806d4357ce2be0d6",
            "d76d02218a0f4cc28bf700e4524ad907",
            "7ef52a9de4c04590af634de780e68ffb",
            "4c6b6583790a46888a3adfdce0999188",
            "2d7720bdf6544d8a8d22919857263e84",
            "a03a104bec3c49c8b33c82b3e26d26e4",
            "e0cb7e95a0e941f68fc22790187461ee",
            "e495e2427d954c5ab1f62045a4046e19",
            "a65a8a8d4a8e40929ac5e037a28ec47c",
            "b9c336ef41574896a7de3ff226003609",
            "08a4bc2f6fb343f080572a8bf3b6851e",
            "e4adb4a507424ab48e9b5012fd467624",
            "6b8826fe088140e3a2b4aa33339bcc72",
            "9166ecd4e9764b578187b99d1c7f4587",
            "47edfa5eaec24604bd0a5be85bef3ed1",
            "d8947e033a4e41b1abfb0ffdf864a91a",
            "8224e2bcb6db4464bdfc39b8dbb21ec0",
            "6ffa8abcb8ac435fa52a3be68543f519",
            "1710c3b083c14dc59a4aaa1f826a4c79",
            "85edc2c492b24d1ba9dd742ae5901954",
            "89244fe5356e4cf6b92b93bbb39e429c",
            "f34daa1a2c224b3ea8b650be54f97727",
            "5eb2825680464698b2d60d0b2bd8f563",
            "4c109b18002946ec93e457446a438a59",
            "a5136bb645eb432c9d7356796529f8f4",
            "ba0d992a2cb6400bbb993a51ea096928",
            "5d1f8ea019cb4dbf89b407443b2bd232",
            "9e79c80794eb417085ae4933fe80d787",
            "6e72c97311fd46b4bf83026639810b85",
            "23c58ff3b1854536a510d2c0cb5febaf",
            "3051f1750f30409481080262a71a0307",
            "2b9a9d193f2342a8b1a8d2e9ef71d7ea",
            "d115159977734e6ba4400c4ee9935c2d",
            "ed01bd6dd4fa4d09920eb5a658a47ccc",
            "499f577a3dce42b9bfcfd0dff92320f0",
            "596187b3ea1646d0be497ccd7119aae1",
            "fbeeab313433491da85f0e1b36350771",
            "bd5ac2c6755b4434b0d1d007dc981bee",
            "a3d6b0e5bf6c471e838799480861539c",
            "e13c8788b2264bb9807cb48819222183",
            "3e754a2778794098b9bccb3f4ca4daf2",
            "62b36983af674c80a09520f39e44f5cc",
            "4c00604d0c0a47489c84bd5780128012",
            "6ff937e654f345cf9426356b66dd2808",
            "5e0c679cc8524e44bc4612b7f12f9e89",
            "ee493525e160436ba69e93061f9f5654",
            "5b438087df4c470a994b35e2534347c1",
            "a1bb961ac83d49febbbe22ddb917917b",
            "30e9df379693470dbd65ab2d307f8921",
            "081421dc92494536b61c5ec5490ce5f5",
            "4a736c5346614549994d1da00d38436e",
            "60a191a96be343cd9d8948a5373777cd",
            "ec15bda5ea39459b8f1f6cd2365d29d6",
            "71b22404f2e946868e7e752afb6930d4",
            "54588b1e9ed04013bddc594895280cc0",
            "8c1c354dbdeb44929ba26f8851ba9b9e",
            "b08e7cea8c0c4b05aa2629d93d16915c",
            "fde2372975d14cb8ba3182a4faff9a34",
            "2cccfd76bbbf4ddc8e9a9e97e6dd993d",
            "3b2929a10a31477e8de3cc9429e8e2d0",
            "4b552a07f4e24ff1900dc41e6832e3bc",
            "ce5c704dd2dd4cc5b1c342109d208615",
            "e776d6c722aa44f7b7c46b6f7819d0b3",
            "0951dc355b4a4833a646a06aee3d3c9a",
            "456946b181ea4205b03322779947485d",
            "05e52b1d7c10418da0a177e3592c0771",
            "4f0b95ef53d74730acd20a06c89c93ca",
            "6c5bd79e1c474c968f00afdd51b7f53b",
            "083aa99173144bd799977212d0cc65f3",
            "a0a7832153a34633a707ccea348f0f20",
            "1d254fa01e8e490dafdf097de2a41904",
            "c44c74a1a2c546b1aa414e3b9dd8dd9d",
            "04dc82b3bcd74f1384ef231859dd5258"
          ]
        },
        "id": "2Q8xA6onpkvS",
        "outputId": "275d79a0-76c8-46eb-8a06-eabd7cf2ec0a"
      },
      "cell_type": "code",
      "source": [
        "trainer.fit(model)"
      ],
      "execution_count": 13,
      "outputs": [
        {
          "output_type": "stream",
          "name": "stderr",
          "text": [
            "Missing logger folder: /content/checkpoint/lightning_logs\n",
            "LOCAL_RANK: 0 - CUDA_VISIBLE_DEVICES: [0]\n",
            "\n",
            "  | Name   | Type      | Params\n",
            "-------------------------------------\n",
            "0 | bert   | BertModel | 109 M \n",
            "1 | linear | Linear    | 4.6 K \n",
            "-------------------------------------\n",
            "109 M     Trainable params\n",
            "0         Non-trainable params\n",
            "109 M     Total params\n",
            "437.947   Total estimated model params size (MB)\n"
          ]
        },
        {
          "output_type": "display_data",
          "data": {
            "text/plain": [
              "Sanity Checking: 0it [00:00, ?it/s]"
            ],
            "application/vnd.jupyter.widget-view+json": {
              "version_major": 2,
              "version_minor": 0,
              "model_id": "f486ad9b3a5b4ce09234f0280152315b"
            }
          },
          "metadata": {}
        },
        {
          "output_type": "stream",
          "name": "stdout",
          "text": [
            "Loading val data\n"
          ]
        },
        {
          "output_type": "stream",
          "name": "stderr",
          "text": [
            "/usr/local/lib/python3.7/dist-packages/torch/utils/data/dataloader.py:490: UserWarning: This DataLoader will create 3 worker processes in total. Our suggested max number of worker in current system is 2, which is smaller than what this DataLoader is going to create. Please be aware that excessive worker creation might get DataLoader running slow or even freeze, lower the worker number to avoid potential slowness/freeze if necessary.\n",
            "  cpuset_checked))\n",
            "/usr/local/lib/python3.7/dist-packages/sklearn/metrics/_classification.py:1318: UndefinedMetricWarning: Precision is ill-defined and being set to 0.0 in labels with no predicted samples. Use `zero_division` parameter to control this behavior.\n",
            "  _warn_prf(average, modifier, msg_start, len(result))\n",
            "/usr/local/lib/python3.7/dist-packages/sklearn/metrics/_classification.py:1318: UndefinedMetricWarning: Recall is ill-defined and being set to 0.0 in labels with no true samples. Use `zero_division` parameter to control this behavior.\n",
            "  _warn_prf(average, modifier, msg_start, len(result))\n"
          ]
        },
        {
          "output_type": "stream",
          "name": "stdout",
          "text": [
            "{'val_loss': tensor(1.6158, device='cuda:0'), 'avg_val_pre': tensor(0.3413, dtype=torch.float64), 'avg_val_rec': tensor(0.4062, dtype=torch.float64), 'avg_val_acc': tensor(0.4062, dtype=torch.float64), 'avg_val_f1': tensor(0.3449, dtype=torch.float64)}\n",
            "Loading train data\n"
          ]
        },
        {
          "output_type": "stream",
          "name": "stderr",
          "text": [
            "/usr/local/lib/python3.7/dist-packages/sklearn/metrics/_classification.py:1318: UndefinedMetricWarning: Precision is ill-defined and being set to 0.0 in labels with no predicted samples. Use `zero_division` parameter to control this behavior.\n",
            "  _warn_prf(average, modifier, msg_start, len(result))\n",
            "/usr/local/lib/python3.7/dist-packages/torch/utils/data/dataloader.py:490: UserWarning: This DataLoader will create 3 worker processes in total. Our suggested max number of worker in current system is 2, which is smaller than what this DataLoader is going to create. Please be aware that excessive worker creation might get DataLoader running slow or even freeze, lower the worker number to avoid potential slowness/freeze if necessary.\n",
            "  cpuset_checked))\n",
            "/usr/local/lib/python3.7/dist-packages/pytorch_lightning/trainer/trainer.py:1931: PossibleUserWarning: The number of training batches (47) is smaller than the logging interval Trainer(log_every_n_steps=50). Set a lower value for log_every_n_steps if you want to see logs for the training epoch.\n",
            "  category=PossibleUserWarning,\n"
          ]
        },
        {
          "output_type": "display_data",
          "data": {
            "text/plain": [
              "Training: 0it [00:00, ?it/s]"
            ],
            "application/vnd.jupyter.widget-view+json": {
              "version_major": 2,
              "version_minor": 0,
              "model_id": "e495e2427d954c5ab1f62045a4046e19"
            }
          },
          "metadata": {}
        },
        {
          "output_type": "display_data",
          "data": {
            "text/plain": [
              "Validation: 0it [00:00, ?it/s]"
            ],
            "application/vnd.jupyter.widget-view+json": {
              "version_major": 2,
              "version_minor": 0,
              "model_id": "1710c3b083c14dc59a4aaa1f826a4c79"
            }
          },
          "metadata": {}
        },
        {
          "output_type": "stream",
          "name": "stderr",
          "text": [
            "/usr/local/lib/python3.7/dist-packages/sklearn/metrics/_classification.py:1318: UndefinedMetricWarning: Precision is ill-defined and being set to 0.0 in labels with no predicted samples. Use `zero_division` parameter to control this behavior.\n",
            "  _warn_prf(average, modifier, msg_start, len(result))\n",
            "/usr/local/lib/python3.7/dist-packages/sklearn/metrics/_classification.py:1318: UndefinedMetricWarning: Precision is ill-defined and being set to 0.0 in labels with no predicted samples. Use `zero_division` parameter to control this behavior.\n",
            "  _warn_prf(average, modifier, msg_start, len(result))\n",
            "/usr/local/lib/python3.7/dist-packages/sklearn/metrics/_classification.py:1318: UndefinedMetricWarning: Precision is ill-defined and being set to 0.0 in labels with no predicted samples. Use `zero_division` parameter to control this behavior.\n",
            "  _warn_prf(average, modifier, msg_start, len(result))\n",
            "/usr/local/lib/python3.7/dist-packages/sklearn/metrics/_classification.py:1318: UndefinedMetricWarning: Precision is ill-defined and being set to 0.0 in labels with no predicted samples. Use `zero_division` parameter to control this behavior.\n",
            "  _warn_prf(average, modifier, msg_start, len(result))\n",
            "/usr/local/lib/python3.7/dist-packages/sklearn/metrics/_classification.py:1318: UndefinedMetricWarning: Precision is ill-defined and being set to 0.0 in labels with no predicted samples. Use `zero_division` parameter to control this behavior.\n",
            "  _warn_prf(average, modifier, msg_start, len(result))\n"
          ]
        },
        {
          "output_type": "stream",
          "name": "stdout",
          "text": [
            "{'val_loss': tensor(0.3765, device='cuda:0'), 'avg_val_pre': tensor(0.8062, dtype=torch.float64), 'avg_val_rec': tensor(0.8542, dtype=torch.float64), 'avg_val_acc': tensor(0.8542, dtype=torch.float64), 'avg_val_f1': tensor(0.8227, dtype=torch.float64)}\n"
          ]
        },
        {
          "output_type": "stream",
          "name": "stderr",
          "text": [
            "/usr/local/lib/python3.7/dist-packages/torch/utils/data/dataloader.py:490: UserWarning: This DataLoader will create 3 worker processes in total. Our suggested max number of worker in current system is 2, which is smaller than what this DataLoader is going to create. Please be aware that excessive worker creation might get DataLoader running slow or even freeze, lower the worker number to avoid potential slowness/freeze if necessary.\n",
            "  cpuset_checked))\n"
          ]
        },
        {
          "output_type": "display_data",
          "data": {
            "text/plain": [
              "Validation: 0it [00:00, ?it/s]"
            ],
            "application/vnd.jupyter.widget-view+json": {
              "version_major": 2,
              "version_minor": 0,
              "model_id": "23c58ff3b1854536a510d2c0cb5febaf"
            }
          },
          "metadata": {}
        },
        {
          "output_type": "stream",
          "name": "stdout",
          "text": [
            "{'val_loss': tensor(0.1746, device='cuda:0'), 'avg_val_pre': tensor(0.9601, dtype=torch.float64), 'avg_val_rec': tensor(0.9375, dtype=torch.float64), 'avg_val_acc': tensor(0.9375, dtype=torch.float64), 'avg_val_f1': tensor(0.9392, dtype=torch.float64)}\n"
          ]
        },
        {
          "output_type": "stream",
          "name": "stderr",
          "text": [
            "/usr/local/lib/python3.7/dist-packages/torch/utils/data/dataloader.py:490: UserWarning: This DataLoader will create 3 worker processes in total. Our suggested max number of worker in current system is 2, which is smaller than what this DataLoader is going to create. Please be aware that excessive worker creation might get DataLoader running slow or even freeze, lower the worker number to avoid potential slowness/freeze if necessary.\n",
            "  cpuset_checked))\n"
          ]
        },
        {
          "output_type": "display_data",
          "data": {
            "text/plain": [
              "Validation: 0it [00:00, ?it/s]"
            ],
            "application/vnd.jupyter.widget-view+json": {
              "version_major": 2,
              "version_minor": 0,
              "model_id": "3e754a2778794098b9bccb3f4ca4daf2"
            }
          },
          "metadata": {}
        },
        {
          "output_type": "stream",
          "name": "stderr",
          "text": [
            "/usr/local/lib/python3.7/dist-packages/sklearn/metrics/_classification.py:1318: UndefinedMetricWarning: Precision is ill-defined and being set to 0.0 in labels with no predicted samples. Use `zero_division` parameter to control this behavior.\n",
            "  _warn_prf(average, modifier, msg_start, len(result))\n"
          ]
        },
        {
          "output_type": "stream",
          "name": "stdout",
          "text": [
            "{'val_loss': tensor(0.1350, device='cuda:0'), 'avg_val_pre': tensor(0.9537, dtype=torch.float64), 'avg_val_rec': tensor(0.9479, dtype=torch.float64), 'avg_val_acc': tensor(0.9479, dtype=torch.float64), 'avg_val_f1': tensor(0.9452, dtype=torch.float64)}\n"
          ]
        },
        {
          "output_type": "stream",
          "name": "stderr",
          "text": [
            "/usr/local/lib/python3.7/dist-packages/torch/utils/data/dataloader.py:490: UserWarning: This DataLoader will create 3 worker processes in total. Our suggested max number of worker in current system is 2, which is smaller than what this DataLoader is going to create. Please be aware that excessive worker creation might get DataLoader running slow or even freeze, lower the worker number to avoid potential slowness/freeze if necessary.\n",
            "  cpuset_checked))\n"
          ]
        },
        {
          "output_type": "display_data",
          "data": {
            "text/plain": [
              "Validation: 0it [00:00, ?it/s]"
            ],
            "application/vnd.jupyter.widget-view+json": {
              "version_major": 2,
              "version_minor": 0,
              "model_id": "60a191a96be343cd9d8948a5373777cd"
            }
          },
          "metadata": {}
        },
        {
          "output_type": "stream",
          "name": "stdout",
          "text": [
            "{'val_loss': tensor(0.1435, device='cuda:0'), 'avg_val_pre': tensor(0.9772, dtype=torch.float64), 'avg_val_rec': tensor(0.9688, dtype=torch.float64), 'avg_val_acc': tensor(0.9688, dtype=torch.float64), 'avg_val_f1': tensor(0.9698, dtype=torch.float64)}\n"
          ]
        },
        {
          "output_type": "stream",
          "name": "stderr",
          "text": [
            "/usr/local/lib/python3.7/dist-packages/torch/utils/data/dataloader.py:490: UserWarning: This DataLoader will create 3 worker processes in total. Our suggested max number of worker in current system is 2, which is smaller than what this DataLoader is going to create. Please be aware that excessive worker creation might get DataLoader running slow or even freeze, lower the worker number to avoid potential slowness/freeze if necessary.\n",
            "  cpuset_checked))\n"
          ]
        },
        {
          "output_type": "display_data",
          "data": {
            "text/plain": [
              "Validation: 0it [00:00, ?it/s]"
            ],
            "application/vnd.jupyter.widget-view+json": {
              "version_major": 2,
              "version_minor": 0,
              "model_id": "e776d6c722aa44f7b7c46b6f7819d0b3"
            }
          },
          "metadata": {}
        },
        {
          "output_type": "stream",
          "name": "stdout",
          "text": [
            "{'val_loss': tensor(0.2079, device='cuda:0'), 'avg_val_pre': tensor(0.9772, dtype=torch.float64), 'avg_val_rec': tensor(0.9688, dtype=torch.float64), 'avg_val_acc': tensor(0.9688, dtype=torch.float64), 'avg_val_f1': tensor(0.9698, dtype=torch.float64)}\n"
          ]
        }
      ]
    },
    {
      "metadata": {
        "id": "8Yi63ihCpkvT"
      },
      "cell_type": "markdown",
      "source": [
        "## Testing"
      ]
    },
    {
      "metadata": {
        "pycharm": {
          "name": "#%%\n"
        },
        "trusted": true,
        "colab": {
          "base_uri": "https://localhost:8080/",
          "height": 173,
          "referenced_widgets": [
            "6d89e40df3c7417a90b4c15de840c4d2",
            "6d2dd308cae04d5ca642cb9ff3110163",
            "e072555eae144689a0844fc1ad2c4677",
            "a90218f721294cf0a3536acd996fcf72",
            "7439eea35a9046188db2273df40e6eb9",
            "42b03335e698481992451013668139b3",
            "fdd4a4b2fc4a43c7b74d74ee4ed79ada",
            "79066454e29845ef9d931d128ce192b2",
            "acb239d8c2e54510b6e1c9d86c8c2a08",
            "c53d3d5219c94b27bad56aa6c78a0a0e",
            "82970eccfce6404b95d21c48285ff36b"
          ]
        },
        "id": "IpIc7MzjpkvT",
        "outputId": "0c816d5e-6c28-4e9d-8d66-378828a58965"
      },
      "cell_type": "code",
      "source": [
        "trainer.test(model)"
      ],
      "execution_count": 14,
      "outputs": [
        {
          "output_type": "stream",
          "name": "stderr",
          "text": [
            "LOCAL_RANK: 0 - CUDA_VISIBLE_DEVICES: [0]\n"
          ]
        },
        {
          "output_type": "stream",
          "name": "stdout",
          "text": [
            "Loading test data\n"
          ]
        },
        {
          "output_type": "stream",
          "name": "stderr",
          "text": [
            "/usr/local/lib/python3.7/dist-packages/torch/utils/data/dataloader.py:490: UserWarning: This DataLoader will create 3 worker processes in total. Our suggested max number of worker in current system is 2, which is smaller than what this DataLoader is going to create. Please be aware that excessive worker creation might get DataLoader running slow or even freeze, lower the worker number to avoid potential slowness/freeze if necessary.\n",
            "  cpuset_checked))\n"
          ]
        },
        {
          "output_type": "display_data",
          "data": {
            "text/plain": [
              "Testing: 0it [00:00, ?it/s]"
            ],
            "application/vnd.jupyter.widget-view+json": {
              "version_major": 2,
              "version_minor": 0,
              "model_id": "6d89e40df3c7417a90b4c15de840c4d2"
            }
          },
          "metadata": {}
        },
        {
          "output_type": "stream",
          "name": "stdout",
          "text": [
            "{'avg_test_pre': tensor(0.9779, dtype=torch.float64), 'avg_test_rec': tensor(0.9728, dtype=torch.float64), 'avg_test_acc': tensor(0.9728, dtype=torch.float64), 'avg_test_f1': tensor(0.9729, dtype=torch.float64)}\n"
          ]
        },
        {
          "output_type": "execute_result",
          "data": {
            "text/plain": [
              "[{}]"
            ]
          },
          "metadata": {},
          "execution_count": 14
        }
      ]
    },
    {
      "cell_type": "code",
      "source": [
        ""
      ],
      "metadata": {
        "id": "V7MMFM-UDRwH"
      },
      "execution_count": null,
      "outputs": []
    }
  ],
  "metadata": {
    "kernelspec": {
      "name": "python3",
      "display_name": "Python 3",
      "language": "python"
    },
    "language_info": {
      "name": "python",
      "version": "3.7.6",
      "mimetype": "text/x-python",
      "codemirror_mode": {
        "name": "ipython",
        "version": 3
      },
      "pygments_lexer": "ipython3",
      "nbconvert_exporter": "python",
      "file_extension": ".py"
    },
    "colab": {
      "name": "bert-relation-extraction (2).ipynb",
      "provenance": [],
      "collapsed_sections": [
        "n2l75LuJpkvJ"
      ]
    },
    "accelerator": "GPU",
    "widgets": {
      "application/vnd.jupyter.widget-state+json": {
        "7e18d6a228644830947bb790e22e0c93": {
          "model_module": "@jupyter-widgets/controls",
          "model_name": "HBoxModel",
          "model_module_version": "1.5.0",
          "state": {
            "_dom_classes": [],
            "_model_module": "@jupyter-widgets/controls",
            "_model_module_version": "1.5.0",
            "_model_name": "HBoxModel",
            "_view_count": null,
            "_view_module": "@jupyter-widgets/controls",
            "_view_module_version": "1.5.0",
            "_view_name": "HBoxView",
            "box_style": "",
            "children": [
              "IPY_MODEL_1a0dc31926eb4f2ab619ce4d60e937ac",
              "IPY_MODEL_4e51e94dd0734edab0d0c97de257b99a",
              "IPY_MODEL_ee80fe9fc3cb47559bfa777fe0126a1b"
            ],
            "layout": "IPY_MODEL_29512ab6ddd046d1ba75230946111a82"
          }
        },
        "1a0dc31926eb4f2ab619ce4d60e937ac": {
          "model_module": "@jupyter-widgets/controls",
          "model_name": "HTMLModel",
          "model_module_version": "1.5.0",
          "state": {
            "_dom_classes": [],
            "_model_module": "@jupyter-widgets/controls",
            "_model_module_version": "1.5.0",
            "_model_name": "HTMLModel",
            "_view_count": null,
            "_view_module": "@jupyter-widgets/controls",
            "_view_module_version": "1.5.0",
            "_view_name": "HTMLView",
            "description": "",
            "description_tooltip": null,
            "layout": "IPY_MODEL_96a620443bc5473cb04b345766840d6e",
            "placeholder": "​",
            "style": "IPY_MODEL_ba223a7110a340d988cd1ecfc6f7c5d1",
            "value": ""
          }
        },
        "4e51e94dd0734edab0d0c97de257b99a": {
          "model_module": "@jupyter-widgets/controls",
          "model_name": "FloatProgressModel",
          "model_module_version": "1.5.0",
          "state": {
            "_dom_classes": [],
            "_model_module": "@jupyter-widgets/controls",
            "_model_module_version": "1.5.0",
            "_model_name": "FloatProgressModel",
            "_view_count": null,
            "_view_module": "@jupyter-widgets/controls",
            "_view_module_version": "1.5.0",
            "_view_name": "ProgressView",
            "bar_style": "success",
            "description": "",
            "description_tooltip": null,
            "layout": "IPY_MODEL_f222ce2908c94c57bcd0ae3d13f98037",
            "max": 1,
            "min": 0,
            "orientation": "horizontal",
            "style": "IPY_MODEL_b0f5d65d620541e0befac8e03bf41c60",
            "value": 1
          }
        },
        "ee80fe9fc3cb47559bfa777fe0126a1b": {
          "model_module": "@jupyter-widgets/controls",
          "model_name": "HTMLModel",
          "model_module_version": "1.5.0",
          "state": {
            "_dom_classes": [],
            "_model_module": "@jupyter-widgets/controls",
            "_model_module_version": "1.5.0",
            "_model_name": "HTMLModel",
            "_view_count": null,
            "_view_module": "@jupyter-widgets/controls",
            "_view_module_version": "1.5.0",
            "_view_name": "HTMLView",
            "description": "",
            "description_tooltip": null,
            "layout": "IPY_MODEL_af130e4ebac54a16a309ba4c34c16d78",
            "placeholder": "​",
            "style": "IPY_MODEL_214d699c05ba4662a4b7a41d3f63dd62",
            "value": " 960/? [00:00&lt;00:00, 8369.09it/s]"
          }
        },
        "29512ab6ddd046d1ba75230946111a82": {
          "model_module": "@jupyter-widgets/base",
          "model_name": "LayoutModel",
          "model_module_version": "1.2.0",
          "state": {
            "_model_module": "@jupyter-widgets/base",
            "_model_module_version": "1.2.0",
            "_model_name": "LayoutModel",
            "_view_count": null,
            "_view_module": "@jupyter-widgets/base",
            "_view_module_version": "1.2.0",
            "_view_name": "LayoutView",
            "align_content": null,
            "align_items": null,
            "align_self": null,
            "border": null,
            "bottom": null,
            "display": null,
            "flex": null,
            "flex_flow": null,
            "grid_area": null,
            "grid_auto_columns": null,
            "grid_auto_flow": null,
            "grid_auto_rows": null,
            "grid_column": null,
            "grid_gap": null,
            "grid_row": null,
            "grid_template_areas": null,
            "grid_template_columns": null,
            "grid_template_rows": null,
            "height": null,
            "justify_content": null,
            "justify_items": null,
            "left": null,
            "margin": null,
            "max_height": null,
            "max_width": null,
            "min_height": null,
            "min_width": null,
            "object_fit": null,
            "object_position": null,
            "order": null,
            "overflow": null,
            "overflow_x": null,
            "overflow_y": null,
            "padding": null,
            "right": null,
            "top": null,
            "visibility": null,
            "width": null
          }
        },
        "96a620443bc5473cb04b345766840d6e": {
          "model_module": "@jupyter-widgets/base",
          "model_name": "LayoutModel",
          "model_module_version": "1.2.0",
          "state": {
            "_model_module": "@jupyter-widgets/base",
            "_model_module_version": "1.2.0",
            "_model_name": "LayoutModel",
            "_view_count": null,
            "_view_module": "@jupyter-widgets/base",
            "_view_module_version": "1.2.0",
            "_view_name": "LayoutView",
            "align_content": null,
            "align_items": null,
            "align_self": null,
            "border": null,
            "bottom": null,
            "display": null,
            "flex": null,
            "flex_flow": null,
            "grid_area": null,
            "grid_auto_columns": null,
            "grid_auto_flow": null,
            "grid_auto_rows": null,
            "grid_column": null,
            "grid_gap": null,
            "grid_row": null,
            "grid_template_areas": null,
            "grid_template_columns": null,
            "grid_template_rows": null,
            "height": null,
            "justify_content": null,
            "justify_items": null,
            "left": null,
            "margin": null,
            "max_height": null,
            "max_width": null,
            "min_height": null,
            "min_width": null,
            "object_fit": null,
            "object_position": null,
            "order": null,
            "overflow": null,
            "overflow_x": null,
            "overflow_y": null,
            "padding": null,
            "right": null,
            "top": null,
            "visibility": null,
            "width": null
          }
        },
        "ba223a7110a340d988cd1ecfc6f7c5d1": {
          "model_module": "@jupyter-widgets/controls",
          "model_name": "DescriptionStyleModel",
          "model_module_version": "1.5.0",
          "state": {
            "_model_module": "@jupyter-widgets/controls",
            "_model_module_version": "1.5.0",
            "_model_name": "DescriptionStyleModel",
            "_view_count": null,
            "_view_module": "@jupyter-widgets/base",
            "_view_module_version": "1.2.0",
            "_view_name": "StyleView",
            "description_width": ""
          }
        },
        "f222ce2908c94c57bcd0ae3d13f98037": {
          "model_module": "@jupyter-widgets/base",
          "model_name": "LayoutModel",
          "model_module_version": "1.2.0",
          "state": {
            "_model_module": "@jupyter-widgets/base",
            "_model_module_version": "1.2.0",
            "_model_name": "LayoutModel",
            "_view_count": null,
            "_view_module": "@jupyter-widgets/base",
            "_view_module_version": "1.2.0",
            "_view_name": "LayoutView",
            "align_content": null,
            "align_items": null,
            "align_self": null,
            "border": null,
            "bottom": null,
            "display": null,
            "flex": null,
            "flex_flow": null,
            "grid_area": null,
            "grid_auto_columns": null,
            "grid_auto_flow": null,
            "grid_auto_rows": null,
            "grid_column": null,
            "grid_gap": null,
            "grid_row": null,
            "grid_template_areas": null,
            "grid_template_columns": null,
            "grid_template_rows": null,
            "height": null,
            "justify_content": null,
            "justify_items": null,
            "left": null,
            "margin": null,
            "max_height": null,
            "max_width": null,
            "min_height": null,
            "min_width": null,
            "object_fit": null,
            "object_position": null,
            "order": null,
            "overflow": null,
            "overflow_x": null,
            "overflow_y": null,
            "padding": null,
            "right": null,
            "top": null,
            "visibility": null,
            "width": "20px"
          }
        },
        "b0f5d65d620541e0befac8e03bf41c60": {
          "model_module": "@jupyter-widgets/controls",
          "model_name": "ProgressStyleModel",
          "model_module_version": "1.5.0",
          "state": {
            "_model_module": "@jupyter-widgets/controls",
            "_model_module_version": "1.5.0",
            "_model_name": "ProgressStyleModel",
            "_view_count": null,
            "_view_module": "@jupyter-widgets/base",
            "_view_module_version": "1.2.0",
            "_view_name": "StyleView",
            "bar_color": null,
            "description_width": ""
          }
        },
        "af130e4ebac54a16a309ba4c34c16d78": {
          "model_module": "@jupyter-widgets/base",
          "model_name": "LayoutModel",
          "model_module_version": "1.2.0",
          "state": {
            "_model_module": "@jupyter-widgets/base",
            "_model_module_version": "1.2.0",
            "_model_name": "LayoutModel",
            "_view_count": null,
            "_view_module": "@jupyter-widgets/base",
            "_view_module_version": "1.2.0",
            "_view_name": "LayoutView",
            "align_content": null,
            "align_items": null,
            "align_self": null,
            "border": null,
            "bottom": null,
            "display": null,
            "flex": null,
            "flex_flow": null,
            "grid_area": null,
            "grid_auto_columns": null,
            "grid_auto_flow": null,
            "grid_auto_rows": null,
            "grid_column": null,
            "grid_gap": null,
            "grid_row": null,
            "grid_template_areas": null,
            "grid_template_columns": null,
            "grid_template_rows": null,
            "height": null,
            "justify_content": null,
            "justify_items": null,
            "left": null,
            "margin": null,
            "max_height": null,
            "max_width": null,
            "min_height": null,
            "min_width": null,
            "object_fit": null,
            "object_position": null,
            "order": null,
            "overflow": null,
            "overflow_x": null,
            "overflow_y": null,
            "padding": null,
            "right": null,
            "top": null,
            "visibility": null,
            "width": null
          }
        },
        "214d699c05ba4662a4b7a41d3f63dd62": {
          "model_module": "@jupyter-widgets/controls",
          "model_name": "DescriptionStyleModel",
          "model_module_version": "1.5.0",
          "state": {
            "_model_module": "@jupyter-widgets/controls",
            "_model_module_version": "1.5.0",
            "_model_name": "DescriptionStyleModel",
            "_view_count": null,
            "_view_module": "@jupyter-widgets/base",
            "_view_module_version": "1.2.0",
            "_view_name": "StyleView",
            "description_width": ""
          }
        },
        "f486ad9b3a5b4ce09234f0280152315b": {
          "model_module": "@jupyter-widgets/controls",
          "model_name": "HBoxModel",
          "model_module_version": "1.5.0",
          "state": {
            "_dom_classes": [],
            "_model_module": "@jupyter-widgets/controls",
            "_model_module_version": "1.5.0",
            "_model_name": "HBoxModel",
            "_view_count": null,
            "_view_module": "@jupyter-widgets/controls",
            "_view_module_version": "1.5.0",
            "_view_name": "HBoxView",
            "box_style": "",
            "children": [
              "IPY_MODEL_a9f7807dce224663b5fac62790378599",
              "IPY_MODEL_a762f4bf055b40c0912c775457bc0a12",
              "IPY_MODEL_b4b55badae2c415aaf209857bea886a7"
            ],
            "layout": "IPY_MODEL_b642804d291b4f27806d4357ce2be0d6"
          }
        },
        "a9f7807dce224663b5fac62790378599": {
          "model_module": "@jupyter-widgets/controls",
          "model_name": "HTMLModel",
          "model_module_version": "1.5.0",
          "state": {
            "_dom_classes": [],
            "_model_module": "@jupyter-widgets/controls",
            "_model_module_version": "1.5.0",
            "_model_name": "HTMLModel",
            "_view_count": null,
            "_view_module": "@jupyter-widgets/controls",
            "_view_module_version": "1.5.0",
            "_view_name": "HTMLView",
            "description": "",
            "description_tooltip": null,
            "layout": "IPY_MODEL_d76d02218a0f4cc28bf700e4524ad907",
            "placeholder": "​",
            "style": "IPY_MODEL_7ef52a9de4c04590af634de780e68ffb",
            "value": "Sanity Checking DataLoader 0: 100%"
          }
        },
        "a762f4bf055b40c0912c775457bc0a12": {
          "model_module": "@jupyter-widgets/controls",
          "model_name": "FloatProgressModel",
          "model_module_version": "1.5.0",
          "state": {
            "_dom_classes": [],
            "_model_module": "@jupyter-widgets/controls",
            "_model_module_version": "1.5.0",
            "_model_name": "FloatProgressModel",
            "_view_count": null,
            "_view_module": "@jupyter-widgets/controls",
            "_view_module_version": "1.5.0",
            "_view_name": "ProgressView",
            "bar_style": "info",
            "description": "",
            "description_tooltip": null,
            "layout": "IPY_MODEL_4c6b6583790a46888a3adfdce0999188",
            "max": 1,
            "min": 0,
            "orientation": "horizontal",
            "style": "IPY_MODEL_2d7720bdf6544d8a8d22919857263e84",
            "value": 1
          }
        },
        "b4b55badae2c415aaf209857bea886a7": {
          "model_module": "@jupyter-widgets/controls",
          "model_name": "HTMLModel",
          "model_module_version": "1.5.0",
          "state": {
            "_dom_classes": [],
            "_model_module": "@jupyter-widgets/controls",
            "_model_module_version": "1.5.0",
            "_model_name": "HTMLModel",
            "_view_count": null,
            "_view_module": "@jupyter-widgets/controls",
            "_view_module_version": "1.5.0",
            "_view_name": "HTMLView",
            "description": "",
            "description_tooltip": null,
            "layout": "IPY_MODEL_a03a104bec3c49c8b33c82b3e26d26e4",
            "placeholder": "​",
            "style": "IPY_MODEL_e0cb7e95a0e941f68fc22790187461ee",
            "value": " 2/2 [00:01&lt;00:00,  1.96it/s]"
          }
        },
        "b642804d291b4f27806d4357ce2be0d6": {
          "model_module": "@jupyter-widgets/base",
          "model_name": "LayoutModel",
          "model_module_version": "1.2.0",
          "state": {
            "_model_module": "@jupyter-widgets/base",
            "_model_module_version": "1.2.0",
            "_model_name": "LayoutModel",
            "_view_count": null,
            "_view_module": "@jupyter-widgets/base",
            "_view_module_version": "1.2.0",
            "_view_name": "LayoutView",
            "align_content": null,
            "align_items": null,
            "align_self": null,
            "border": null,
            "bottom": null,
            "display": "inline-flex",
            "flex": null,
            "flex_flow": "row wrap",
            "grid_area": null,
            "grid_auto_columns": null,
            "grid_auto_flow": null,
            "grid_auto_rows": null,
            "grid_column": null,
            "grid_gap": null,
            "grid_row": null,
            "grid_template_areas": null,
            "grid_template_columns": null,
            "grid_template_rows": null,
            "height": null,
            "justify_content": null,
            "justify_items": null,
            "left": null,
            "margin": null,
            "max_height": null,
            "max_width": null,
            "min_height": null,
            "min_width": null,
            "object_fit": null,
            "object_position": null,
            "order": null,
            "overflow": null,
            "overflow_x": null,
            "overflow_y": null,
            "padding": null,
            "right": null,
            "top": null,
            "visibility": null,
            "width": "100%"
          }
        },
        "d76d02218a0f4cc28bf700e4524ad907": {
          "model_module": "@jupyter-widgets/base",
          "model_name": "LayoutModel",
          "model_module_version": "1.2.0",
          "state": {
            "_model_module": "@jupyter-widgets/base",
            "_model_module_version": "1.2.0",
            "_model_name": "LayoutModel",
            "_view_count": null,
            "_view_module": "@jupyter-widgets/base",
            "_view_module_version": "1.2.0",
            "_view_name": "LayoutView",
            "align_content": null,
            "align_items": null,
            "align_self": null,
            "border": null,
            "bottom": null,
            "display": null,
            "flex": null,
            "flex_flow": null,
            "grid_area": null,
            "grid_auto_columns": null,
            "grid_auto_flow": null,
            "grid_auto_rows": null,
            "grid_column": null,
            "grid_gap": null,
            "grid_row": null,
            "grid_template_areas": null,
            "grid_template_columns": null,
            "grid_template_rows": null,
            "height": null,
            "justify_content": null,
            "justify_items": null,
            "left": null,
            "margin": null,
            "max_height": null,
            "max_width": null,
            "min_height": null,
            "min_width": null,
            "object_fit": null,
            "object_position": null,
            "order": null,
            "overflow": null,
            "overflow_x": null,
            "overflow_y": null,
            "padding": null,
            "right": null,
            "top": null,
            "visibility": null,
            "width": null
          }
        },
        "7ef52a9de4c04590af634de780e68ffb": {
          "model_module": "@jupyter-widgets/controls",
          "model_name": "DescriptionStyleModel",
          "model_module_version": "1.5.0",
          "state": {
            "_model_module": "@jupyter-widgets/controls",
            "_model_module_version": "1.5.0",
            "_model_name": "DescriptionStyleModel",
            "_view_count": null,
            "_view_module": "@jupyter-widgets/base",
            "_view_module_version": "1.2.0",
            "_view_name": "StyleView",
            "description_width": ""
          }
        },
        "4c6b6583790a46888a3adfdce0999188": {
          "model_module": "@jupyter-widgets/base",
          "model_name": "LayoutModel",
          "model_module_version": "1.2.0",
          "state": {
            "_model_module": "@jupyter-widgets/base",
            "_model_module_version": "1.2.0",
            "_model_name": "LayoutModel",
            "_view_count": null,
            "_view_module": "@jupyter-widgets/base",
            "_view_module_version": "1.2.0",
            "_view_name": "LayoutView",
            "align_content": null,
            "align_items": null,
            "align_self": null,
            "border": null,
            "bottom": null,
            "display": null,
            "flex": "2",
            "flex_flow": null,
            "grid_area": null,
            "grid_auto_columns": null,
            "grid_auto_flow": null,
            "grid_auto_rows": null,
            "grid_column": null,
            "grid_gap": null,
            "grid_row": null,
            "grid_template_areas": null,
            "grid_template_columns": null,
            "grid_template_rows": null,
            "height": null,
            "justify_content": null,
            "justify_items": null,
            "left": null,
            "margin": null,
            "max_height": null,
            "max_width": null,
            "min_height": null,
            "min_width": null,
            "object_fit": null,
            "object_position": null,
            "order": null,
            "overflow": null,
            "overflow_x": null,
            "overflow_y": null,
            "padding": null,
            "right": null,
            "top": null,
            "visibility": null,
            "width": null
          }
        },
        "2d7720bdf6544d8a8d22919857263e84": {
          "model_module": "@jupyter-widgets/controls",
          "model_name": "ProgressStyleModel",
          "model_module_version": "1.5.0",
          "state": {
            "_model_module": "@jupyter-widgets/controls",
            "_model_module_version": "1.5.0",
            "_model_name": "ProgressStyleModel",
            "_view_count": null,
            "_view_module": "@jupyter-widgets/base",
            "_view_module_version": "1.2.0",
            "_view_name": "StyleView",
            "bar_color": null,
            "description_width": ""
          }
        },
        "a03a104bec3c49c8b33c82b3e26d26e4": {
          "model_module": "@jupyter-widgets/base",
          "model_name": "LayoutModel",
          "model_module_version": "1.2.0",
          "state": {
            "_model_module": "@jupyter-widgets/base",
            "_model_module_version": "1.2.0",
            "_model_name": "LayoutModel",
            "_view_count": null,
            "_view_module": "@jupyter-widgets/base",
            "_view_module_version": "1.2.0",
            "_view_name": "LayoutView",
            "align_content": null,
            "align_items": null,
            "align_self": null,
            "border": null,
            "bottom": null,
            "display": null,
            "flex": null,
            "flex_flow": null,
            "grid_area": null,
            "grid_auto_columns": null,
            "grid_auto_flow": null,
            "grid_auto_rows": null,
            "grid_column": null,
            "grid_gap": null,
            "grid_row": null,
            "grid_template_areas": null,
            "grid_template_columns": null,
            "grid_template_rows": null,
            "height": null,
            "justify_content": null,
            "justify_items": null,
            "left": null,
            "margin": null,
            "max_height": null,
            "max_width": null,
            "min_height": null,
            "min_width": null,
            "object_fit": null,
            "object_position": null,
            "order": null,
            "overflow": null,
            "overflow_x": null,
            "overflow_y": null,
            "padding": null,
            "right": null,
            "top": null,
            "visibility": null,
            "width": null
          }
        },
        "e0cb7e95a0e941f68fc22790187461ee": {
          "model_module": "@jupyter-widgets/controls",
          "model_name": "DescriptionStyleModel",
          "model_module_version": "1.5.0",
          "state": {
            "_model_module": "@jupyter-widgets/controls",
            "_model_module_version": "1.5.0",
            "_model_name": "DescriptionStyleModel",
            "_view_count": null,
            "_view_module": "@jupyter-widgets/base",
            "_view_module_version": "1.2.0",
            "_view_name": "StyleView",
            "description_width": ""
          }
        },
        "e495e2427d954c5ab1f62045a4046e19": {
          "model_module": "@jupyter-widgets/controls",
          "model_name": "HBoxModel",
          "model_module_version": "1.5.0",
          "state": {
            "_dom_classes": [],
            "_model_module": "@jupyter-widgets/controls",
            "_model_module_version": "1.5.0",
            "_model_name": "HBoxModel",
            "_view_count": null,
            "_view_module": "@jupyter-widgets/controls",
            "_view_module_version": "1.5.0",
            "_view_name": "HBoxView",
            "box_style": "",
            "children": [
              "IPY_MODEL_a65a8a8d4a8e40929ac5e037a28ec47c",
              "IPY_MODEL_b9c336ef41574896a7de3ff226003609",
              "IPY_MODEL_08a4bc2f6fb343f080572a8bf3b6851e"
            ],
            "layout": "IPY_MODEL_e4adb4a507424ab48e9b5012fd467624"
          }
        },
        "a65a8a8d4a8e40929ac5e037a28ec47c": {
          "model_module": "@jupyter-widgets/controls",
          "model_name": "HTMLModel",
          "model_module_version": "1.5.0",
          "state": {
            "_dom_classes": [],
            "_model_module": "@jupyter-widgets/controls",
            "_model_module_version": "1.5.0",
            "_model_name": "HTMLModel",
            "_view_count": null,
            "_view_module": "@jupyter-widgets/controls",
            "_view_module_version": "1.5.0",
            "_view_name": "HTMLView",
            "description": "",
            "description_tooltip": null,
            "layout": "IPY_MODEL_6b8826fe088140e3a2b4aa33339bcc72",
            "placeholder": "​",
            "style": "IPY_MODEL_9166ecd4e9764b578187b99d1c7f4587",
            "value": "Epoch 4: 100%"
          }
        },
        "b9c336ef41574896a7de3ff226003609": {
          "model_module": "@jupyter-widgets/controls",
          "model_name": "FloatProgressModel",
          "model_module_version": "1.5.0",
          "state": {
            "_dom_classes": [],
            "_model_module": "@jupyter-widgets/controls",
            "_model_module_version": "1.5.0",
            "_model_name": "FloatProgressModel",
            "_view_count": null,
            "_view_module": "@jupyter-widgets/controls",
            "_view_module_version": "1.5.0",
            "_view_name": "ProgressView",
            "bar_style": "success",
            "description": "",
            "description_tooltip": null,
            "layout": "IPY_MODEL_47edfa5eaec24604bd0a5be85bef3ed1",
            "max": 1,
            "min": 0,
            "orientation": "horizontal",
            "style": "IPY_MODEL_d8947e033a4e41b1abfb0ffdf864a91a",
            "value": 1
          }
        },
        "08a4bc2f6fb343f080572a8bf3b6851e": {
          "model_module": "@jupyter-widgets/controls",
          "model_name": "HTMLModel",
          "model_module_version": "1.5.0",
          "state": {
            "_dom_classes": [],
            "_model_module": "@jupyter-widgets/controls",
            "_model_module_version": "1.5.0",
            "_model_name": "HTMLModel",
            "_view_count": null,
            "_view_module": "@jupyter-widgets/controls",
            "_view_module_version": "1.5.0",
            "_view_name": "HTMLView",
            "description": "",
            "description_tooltip": null,
            "layout": "IPY_MODEL_8224e2bcb6db4464bdfc39b8dbb21ec0",
            "placeholder": "​",
            "style": "IPY_MODEL_6ffa8abcb8ac435fa52a3be68543f519",
            "value": " 53/53 [04:59&lt;00:00,  5.65s/it, loss=0.0244, v_num=0]"
          }
        },
        "e4adb4a507424ab48e9b5012fd467624": {
          "model_module": "@jupyter-widgets/base",
          "model_name": "LayoutModel",
          "model_module_version": "1.2.0",
          "state": {
            "_model_module": "@jupyter-widgets/base",
            "_model_module_version": "1.2.0",
            "_model_name": "LayoutModel",
            "_view_count": null,
            "_view_module": "@jupyter-widgets/base",
            "_view_module_version": "1.2.0",
            "_view_name": "LayoutView",
            "align_content": null,
            "align_items": null,
            "align_self": null,
            "border": null,
            "bottom": null,
            "display": "inline-flex",
            "flex": null,
            "flex_flow": "row wrap",
            "grid_area": null,
            "grid_auto_columns": null,
            "grid_auto_flow": null,
            "grid_auto_rows": null,
            "grid_column": null,
            "grid_gap": null,
            "grid_row": null,
            "grid_template_areas": null,
            "grid_template_columns": null,
            "grid_template_rows": null,
            "height": null,
            "justify_content": null,
            "justify_items": null,
            "left": null,
            "margin": null,
            "max_height": null,
            "max_width": null,
            "min_height": null,
            "min_width": null,
            "object_fit": null,
            "object_position": null,
            "order": null,
            "overflow": null,
            "overflow_x": null,
            "overflow_y": null,
            "padding": null,
            "right": null,
            "top": null,
            "visibility": null,
            "width": "100%"
          }
        },
        "6b8826fe088140e3a2b4aa33339bcc72": {
          "model_module": "@jupyter-widgets/base",
          "model_name": "LayoutModel",
          "model_module_version": "1.2.0",
          "state": {
            "_model_module": "@jupyter-widgets/base",
            "_model_module_version": "1.2.0",
            "_model_name": "LayoutModel",
            "_view_count": null,
            "_view_module": "@jupyter-widgets/base",
            "_view_module_version": "1.2.0",
            "_view_name": "LayoutView",
            "align_content": null,
            "align_items": null,
            "align_self": null,
            "border": null,
            "bottom": null,
            "display": null,
            "flex": null,
            "flex_flow": null,
            "grid_area": null,
            "grid_auto_columns": null,
            "grid_auto_flow": null,
            "grid_auto_rows": null,
            "grid_column": null,
            "grid_gap": null,
            "grid_row": null,
            "grid_template_areas": null,
            "grid_template_columns": null,
            "grid_template_rows": null,
            "height": null,
            "justify_content": null,
            "justify_items": null,
            "left": null,
            "margin": null,
            "max_height": null,
            "max_width": null,
            "min_height": null,
            "min_width": null,
            "object_fit": null,
            "object_position": null,
            "order": null,
            "overflow": null,
            "overflow_x": null,
            "overflow_y": null,
            "padding": null,
            "right": null,
            "top": null,
            "visibility": null,
            "width": null
          }
        },
        "9166ecd4e9764b578187b99d1c7f4587": {
          "model_module": "@jupyter-widgets/controls",
          "model_name": "DescriptionStyleModel",
          "model_module_version": "1.5.0",
          "state": {
            "_model_module": "@jupyter-widgets/controls",
            "_model_module_version": "1.5.0",
            "_model_name": "DescriptionStyleModel",
            "_view_count": null,
            "_view_module": "@jupyter-widgets/base",
            "_view_module_version": "1.2.0",
            "_view_name": "StyleView",
            "description_width": ""
          }
        },
        "47edfa5eaec24604bd0a5be85bef3ed1": {
          "model_module": "@jupyter-widgets/base",
          "model_name": "LayoutModel",
          "model_module_version": "1.2.0",
          "state": {
            "_model_module": "@jupyter-widgets/base",
            "_model_module_version": "1.2.0",
            "_model_name": "LayoutModel",
            "_view_count": null,
            "_view_module": "@jupyter-widgets/base",
            "_view_module_version": "1.2.0",
            "_view_name": "LayoutView",
            "align_content": null,
            "align_items": null,
            "align_self": null,
            "border": null,
            "bottom": null,
            "display": null,
            "flex": "2",
            "flex_flow": null,
            "grid_area": null,
            "grid_auto_columns": null,
            "grid_auto_flow": null,
            "grid_auto_rows": null,
            "grid_column": null,
            "grid_gap": null,
            "grid_row": null,
            "grid_template_areas": null,
            "grid_template_columns": null,
            "grid_template_rows": null,
            "height": null,
            "justify_content": null,
            "justify_items": null,
            "left": null,
            "margin": null,
            "max_height": null,
            "max_width": null,
            "min_height": null,
            "min_width": null,
            "object_fit": null,
            "object_position": null,
            "order": null,
            "overflow": null,
            "overflow_x": null,
            "overflow_y": null,
            "padding": null,
            "right": null,
            "top": null,
            "visibility": null,
            "width": null
          }
        },
        "d8947e033a4e41b1abfb0ffdf864a91a": {
          "model_module": "@jupyter-widgets/controls",
          "model_name": "ProgressStyleModel",
          "model_module_version": "1.5.0",
          "state": {
            "_model_module": "@jupyter-widgets/controls",
            "_model_module_version": "1.5.0",
            "_model_name": "ProgressStyleModel",
            "_view_count": null,
            "_view_module": "@jupyter-widgets/base",
            "_view_module_version": "1.2.0",
            "_view_name": "StyleView",
            "bar_color": null,
            "description_width": ""
          }
        },
        "8224e2bcb6db4464bdfc39b8dbb21ec0": {
          "model_module": "@jupyter-widgets/base",
          "model_name": "LayoutModel",
          "model_module_version": "1.2.0",
          "state": {
            "_model_module": "@jupyter-widgets/base",
            "_model_module_version": "1.2.0",
            "_model_name": "LayoutModel",
            "_view_count": null,
            "_view_module": "@jupyter-widgets/base",
            "_view_module_version": "1.2.0",
            "_view_name": "LayoutView",
            "align_content": null,
            "align_items": null,
            "align_self": null,
            "border": null,
            "bottom": null,
            "display": null,
            "flex": null,
            "flex_flow": null,
            "grid_area": null,
            "grid_auto_columns": null,
            "grid_auto_flow": null,
            "grid_auto_rows": null,
            "grid_column": null,
            "grid_gap": null,
            "grid_row": null,
            "grid_template_areas": null,
            "grid_template_columns": null,
            "grid_template_rows": null,
            "height": null,
            "justify_content": null,
            "justify_items": null,
            "left": null,
            "margin": null,
            "max_height": null,
            "max_width": null,
            "min_height": null,
            "min_width": null,
            "object_fit": null,
            "object_position": null,
            "order": null,
            "overflow": null,
            "overflow_x": null,
            "overflow_y": null,
            "padding": null,
            "right": null,
            "top": null,
            "visibility": null,
            "width": null
          }
        },
        "6ffa8abcb8ac435fa52a3be68543f519": {
          "model_module": "@jupyter-widgets/controls",
          "model_name": "DescriptionStyleModel",
          "model_module_version": "1.5.0",
          "state": {
            "_model_module": "@jupyter-widgets/controls",
            "_model_module_version": "1.5.0",
            "_model_name": "DescriptionStyleModel",
            "_view_count": null,
            "_view_module": "@jupyter-widgets/base",
            "_view_module_version": "1.2.0",
            "_view_name": "StyleView",
            "description_width": ""
          }
        },
        "1710c3b083c14dc59a4aaa1f826a4c79": {
          "model_module": "@jupyter-widgets/controls",
          "model_name": "HBoxModel",
          "model_module_version": "1.5.0",
          "state": {
            "_dom_classes": [],
            "_model_module": "@jupyter-widgets/controls",
            "_model_module_version": "1.5.0",
            "_model_name": "HBoxModel",
            "_view_count": null,
            "_view_module": "@jupyter-widgets/controls",
            "_view_module_version": "1.5.0",
            "_view_name": "HBoxView",
            "box_style": "",
            "children": [
              "IPY_MODEL_85edc2c492b24d1ba9dd742ae5901954",
              "IPY_MODEL_89244fe5356e4cf6b92b93bbb39e429c",
              "IPY_MODEL_f34daa1a2c224b3ea8b650be54f97727"
            ],
            "layout": "IPY_MODEL_5eb2825680464698b2d60d0b2bd8f563"
          }
        },
        "85edc2c492b24d1ba9dd742ae5901954": {
          "model_module": "@jupyter-widgets/controls",
          "model_name": "HTMLModel",
          "model_module_version": "1.5.0",
          "state": {
            "_dom_classes": [],
            "_model_module": "@jupyter-widgets/controls",
            "_model_module_version": "1.5.0",
            "_model_name": "HTMLModel",
            "_view_count": null,
            "_view_module": "@jupyter-widgets/controls",
            "_view_module_version": "1.5.0",
            "_view_name": "HTMLView",
            "description": "",
            "description_tooltip": null,
            "layout": "IPY_MODEL_4c109b18002946ec93e457446a438a59",
            "placeholder": "​",
            "style": "IPY_MODEL_a5136bb645eb432c9d7356796529f8f4",
            "value": "Validation DataLoader 0: 100%"
          }
        },
        "89244fe5356e4cf6b92b93bbb39e429c": {
          "model_module": "@jupyter-widgets/controls",
          "model_name": "FloatProgressModel",
          "model_module_version": "1.5.0",
          "state": {
            "_dom_classes": [],
            "_model_module": "@jupyter-widgets/controls",
            "_model_module_version": "1.5.0",
            "_model_name": "FloatProgressModel",
            "_view_count": null,
            "_view_module": "@jupyter-widgets/controls",
            "_view_module_version": "1.5.0",
            "_view_name": "ProgressView",
            "bar_style": "info",
            "description": "",
            "description_tooltip": null,
            "layout": "IPY_MODEL_ba0d992a2cb6400bbb993a51ea096928",
            "max": 1,
            "min": 0,
            "orientation": "horizontal",
            "style": "IPY_MODEL_5d1f8ea019cb4dbf89b407443b2bd232",
            "value": 1
          }
        },
        "f34daa1a2c224b3ea8b650be54f97727": {
          "model_module": "@jupyter-widgets/controls",
          "model_name": "HTMLModel",
          "model_module_version": "1.5.0",
          "state": {
            "_dom_classes": [],
            "_model_module": "@jupyter-widgets/controls",
            "_model_module_version": "1.5.0",
            "_model_name": "HTMLModel",
            "_view_count": null,
            "_view_module": "@jupyter-widgets/controls",
            "_view_module_version": "1.5.0",
            "_view_name": "HTMLView",
            "description": "",
            "description_tooltip": null,
            "layout": "IPY_MODEL_9e79c80794eb417085ae4933fe80d787",
            "placeholder": "​",
            "style": "IPY_MODEL_6e72c97311fd46b4bf83026639810b85",
            "value": " 6/6 [00:02&lt;00:00,  2.80it/s]"
          }
        },
        "5eb2825680464698b2d60d0b2bd8f563": {
          "model_module": "@jupyter-widgets/base",
          "model_name": "LayoutModel",
          "model_module_version": "1.2.0",
          "state": {
            "_model_module": "@jupyter-widgets/base",
            "_model_module_version": "1.2.0",
            "_model_name": "LayoutModel",
            "_view_count": null,
            "_view_module": "@jupyter-widgets/base",
            "_view_module_version": "1.2.0",
            "_view_name": "LayoutView",
            "align_content": null,
            "align_items": null,
            "align_self": null,
            "border": null,
            "bottom": null,
            "display": "inline-flex",
            "flex": null,
            "flex_flow": "row wrap",
            "grid_area": null,
            "grid_auto_columns": null,
            "grid_auto_flow": null,
            "grid_auto_rows": null,
            "grid_column": null,
            "grid_gap": null,
            "grid_row": null,
            "grid_template_areas": null,
            "grid_template_columns": null,
            "grid_template_rows": null,
            "height": null,
            "justify_content": null,
            "justify_items": null,
            "left": null,
            "margin": null,
            "max_height": null,
            "max_width": null,
            "min_height": null,
            "min_width": null,
            "object_fit": null,
            "object_position": null,
            "order": null,
            "overflow": null,
            "overflow_x": null,
            "overflow_y": null,
            "padding": null,
            "right": null,
            "top": null,
            "visibility": null,
            "width": "100%"
          }
        },
        "4c109b18002946ec93e457446a438a59": {
          "model_module": "@jupyter-widgets/base",
          "model_name": "LayoutModel",
          "model_module_version": "1.2.0",
          "state": {
            "_model_module": "@jupyter-widgets/base",
            "_model_module_version": "1.2.0",
            "_model_name": "LayoutModel",
            "_view_count": null,
            "_view_module": "@jupyter-widgets/base",
            "_view_module_version": "1.2.0",
            "_view_name": "LayoutView",
            "align_content": null,
            "align_items": null,
            "align_self": null,
            "border": null,
            "bottom": null,
            "display": null,
            "flex": null,
            "flex_flow": null,
            "grid_area": null,
            "grid_auto_columns": null,
            "grid_auto_flow": null,
            "grid_auto_rows": null,
            "grid_column": null,
            "grid_gap": null,
            "grid_row": null,
            "grid_template_areas": null,
            "grid_template_columns": null,
            "grid_template_rows": null,
            "height": null,
            "justify_content": null,
            "justify_items": null,
            "left": null,
            "margin": null,
            "max_height": null,
            "max_width": null,
            "min_height": null,
            "min_width": null,
            "object_fit": null,
            "object_position": null,
            "order": null,
            "overflow": null,
            "overflow_x": null,
            "overflow_y": null,
            "padding": null,
            "right": null,
            "top": null,
            "visibility": null,
            "width": null
          }
        },
        "a5136bb645eb432c9d7356796529f8f4": {
          "model_module": "@jupyter-widgets/controls",
          "model_name": "DescriptionStyleModel",
          "model_module_version": "1.5.0",
          "state": {
            "_model_module": "@jupyter-widgets/controls",
            "_model_module_version": "1.5.0",
            "_model_name": "DescriptionStyleModel",
            "_view_count": null,
            "_view_module": "@jupyter-widgets/base",
            "_view_module_version": "1.2.0",
            "_view_name": "StyleView",
            "description_width": ""
          }
        },
        "ba0d992a2cb6400bbb993a51ea096928": {
          "model_module": "@jupyter-widgets/base",
          "model_name": "LayoutModel",
          "model_module_version": "1.2.0",
          "state": {
            "_model_module": "@jupyter-widgets/base",
            "_model_module_version": "1.2.0",
            "_model_name": "LayoutModel",
            "_view_count": null,
            "_view_module": "@jupyter-widgets/base",
            "_view_module_version": "1.2.0",
            "_view_name": "LayoutView",
            "align_content": null,
            "align_items": null,
            "align_self": null,
            "border": null,
            "bottom": null,
            "display": null,
            "flex": "2",
            "flex_flow": null,
            "grid_area": null,
            "grid_auto_columns": null,
            "grid_auto_flow": null,
            "grid_auto_rows": null,
            "grid_column": null,
            "grid_gap": null,
            "grid_row": null,
            "grid_template_areas": null,
            "grid_template_columns": null,
            "grid_template_rows": null,
            "height": null,
            "justify_content": null,
            "justify_items": null,
            "left": null,
            "margin": null,
            "max_height": null,
            "max_width": null,
            "min_height": null,
            "min_width": null,
            "object_fit": null,
            "object_position": null,
            "order": null,
            "overflow": null,
            "overflow_x": null,
            "overflow_y": null,
            "padding": null,
            "right": null,
            "top": null,
            "visibility": null,
            "width": null
          }
        },
        "5d1f8ea019cb4dbf89b407443b2bd232": {
          "model_module": "@jupyter-widgets/controls",
          "model_name": "ProgressStyleModel",
          "model_module_version": "1.5.0",
          "state": {
            "_model_module": "@jupyter-widgets/controls",
            "_model_module_version": "1.5.0",
            "_model_name": "ProgressStyleModel",
            "_view_count": null,
            "_view_module": "@jupyter-widgets/base",
            "_view_module_version": "1.2.0",
            "_view_name": "StyleView",
            "bar_color": null,
            "description_width": ""
          }
        },
        "9e79c80794eb417085ae4933fe80d787": {
          "model_module": "@jupyter-widgets/base",
          "model_name": "LayoutModel",
          "model_module_version": "1.2.0",
          "state": {
            "_model_module": "@jupyter-widgets/base",
            "_model_module_version": "1.2.0",
            "_model_name": "LayoutModel",
            "_view_count": null,
            "_view_module": "@jupyter-widgets/base",
            "_view_module_version": "1.2.0",
            "_view_name": "LayoutView",
            "align_content": null,
            "align_items": null,
            "align_self": null,
            "border": null,
            "bottom": null,
            "display": null,
            "flex": null,
            "flex_flow": null,
            "grid_area": null,
            "grid_auto_columns": null,
            "grid_auto_flow": null,
            "grid_auto_rows": null,
            "grid_column": null,
            "grid_gap": null,
            "grid_row": null,
            "grid_template_areas": null,
            "grid_template_columns": null,
            "grid_template_rows": null,
            "height": null,
            "justify_content": null,
            "justify_items": null,
            "left": null,
            "margin": null,
            "max_height": null,
            "max_width": null,
            "min_height": null,
            "min_width": null,
            "object_fit": null,
            "object_position": null,
            "order": null,
            "overflow": null,
            "overflow_x": null,
            "overflow_y": null,
            "padding": null,
            "right": null,
            "top": null,
            "visibility": null,
            "width": null
          }
        },
        "6e72c97311fd46b4bf83026639810b85": {
          "model_module": "@jupyter-widgets/controls",
          "model_name": "DescriptionStyleModel",
          "model_module_version": "1.5.0",
          "state": {
            "_model_module": "@jupyter-widgets/controls",
            "_model_module_version": "1.5.0",
            "_model_name": "DescriptionStyleModel",
            "_view_count": null,
            "_view_module": "@jupyter-widgets/base",
            "_view_module_version": "1.2.0",
            "_view_name": "StyleView",
            "description_width": ""
          }
        },
        "23c58ff3b1854536a510d2c0cb5febaf": {
          "model_module": "@jupyter-widgets/controls",
          "model_name": "HBoxModel",
          "model_module_version": "1.5.0",
          "state": {
            "_dom_classes": [],
            "_model_module": "@jupyter-widgets/controls",
            "_model_module_version": "1.5.0",
            "_model_name": "HBoxModel",
            "_view_count": null,
            "_view_module": "@jupyter-widgets/controls",
            "_view_module_version": "1.5.0",
            "_view_name": "HBoxView",
            "box_style": "",
            "children": [
              "IPY_MODEL_3051f1750f30409481080262a71a0307",
              "IPY_MODEL_2b9a9d193f2342a8b1a8d2e9ef71d7ea",
              "IPY_MODEL_d115159977734e6ba4400c4ee9935c2d"
            ],
            "layout": "IPY_MODEL_ed01bd6dd4fa4d09920eb5a658a47ccc"
          }
        },
        "3051f1750f30409481080262a71a0307": {
          "model_module": "@jupyter-widgets/controls",
          "model_name": "HTMLModel",
          "model_module_version": "1.5.0",
          "state": {
            "_dom_classes": [],
            "_model_module": "@jupyter-widgets/controls",
            "_model_module_version": "1.5.0",
            "_model_name": "HTMLModel",
            "_view_count": null,
            "_view_module": "@jupyter-widgets/controls",
            "_view_module_version": "1.5.0",
            "_view_name": "HTMLView",
            "description": "",
            "description_tooltip": null,
            "layout": "IPY_MODEL_499f577a3dce42b9bfcfd0dff92320f0",
            "placeholder": "​",
            "style": "IPY_MODEL_596187b3ea1646d0be497ccd7119aae1",
            "value": "Validation DataLoader 0: 100%"
          }
        },
        "2b9a9d193f2342a8b1a8d2e9ef71d7ea": {
          "model_module": "@jupyter-widgets/controls",
          "model_name": "FloatProgressModel",
          "model_module_version": "1.5.0",
          "state": {
            "_dom_classes": [],
            "_model_module": "@jupyter-widgets/controls",
            "_model_module_version": "1.5.0",
            "_model_name": "FloatProgressModel",
            "_view_count": null,
            "_view_module": "@jupyter-widgets/controls",
            "_view_module_version": "1.5.0",
            "_view_name": "ProgressView",
            "bar_style": "info",
            "description": "",
            "description_tooltip": null,
            "layout": "IPY_MODEL_fbeeab313433491da85f0e1b36350771",
            "max": 1,
            "min": 0,
            "orientation": "horizontal",
            "style": "IPY_MODEL_bd5ac2c6755b4434b0d1d007dc981bee",
            "value": 1
          }
        },
        "d115159977734e6ba4400c4ee9935c2d": {
          "model_module": "@jupyter-widgets/controls",
          "model_name": "HTMLModel",
          "model_module_version": "1.5.0",
          "state": {
            "_dom_classes": [],
            "_model_module": "@jupyter-widgets/controls",
            "_model_module_version": "1.5.0",
            "_model_name": "HTMLModel",
            "_view_count": null,
            "_view_module": "@jupyter-widgets/controls",
            "_view_module_version": "1.5.0",
            "_view_name": "HTMLView",
            "description": "",
            "description_tooltip": null,
            "layout": "IPY_MODEL_a3d6b0e5bf6c471e838799480861539c",
            "placeholder": "​",
            "style": "IPY_MODEL_e13c8788b2264bb9807cb48819222183",
            "value": " 6/6 [00:02&lt;00:00,  2.74it/s]"
          }
        },
        "ed01bd6dd4fa4d09920eb5a658a47ccc": {
          "model_module": "@jupyter-widgets/base",
          "model_name": "LayoutModel",
          "model_module_version": "1.2.0",
          "state": {
            "_model_module": "@jupyter-widgets/base",
            "_model_module_version": "1.2.0",
            "_model_name": "LayoutModel",
            "_view_count": null,
            "_view_module": "@jupyter-widgets/base",
            "_view_module_version": "1.2.0",
            "_view_name": "LayoutView",
            "align_content": null,
            "align_items": null,
            "align_self": null,
            "border": null,
            "bottom": null,
            "display": "inline-flex",
            "flex": null,
            "flex_flow": "row wrap",
            "grid_area": null,
            "grid_auto_columns": null,
            "grid_auto_flow": null,
            "grid_auto_rows": null,
            "grid_column": null,
            "grid_gap": null,
            "grid_row": null,
            "grid_template_areas": null,
            "grid_template_columns": null,
            "grid_template_rows": null,
            "height": null,
            "justify_content": null,
            "justify_items": null,
            "left": null,
            "margin": null,
            "max_height": null,
            "max_width": null,
            "min_height": null,
            "min_width": null,
            "object_fit": null,
            "object_position": null,
            "order": null,
            "overflow": null,
            "overflow_x": null,
            "overflow_y": null,
            "padding": null,
            "right": null,
            "top": null,
            "visibility": null,
            "width": "100%"
          }
        },
        "499f577a3dce42b9bfcfd0dff92320f0": {
          "model_module": "@jupyter-widgets/base",
          "model_name": "LayoutModel",
          "model_module_version": "1.2.0",
          "state": {
            "_model_module": "@jupyter-widgets/base",
            "_model_module_version": "1.2.0",
            "_model_name": "LayoutModel",
            "_view_count": null,
            "_view_module": "@jupyter-widgets/base",
            "_view_module_version": "1.2.0",
            "_view_name": "LayoutView",
            "align_content": null,
            "align_items": null,
            "align_self": null,
            "border": null,
            "bottom": null,
            "display": null,
            "flex": null,
            "flex_flow": null,
            "grid_area": null,
            "grid_auto_columns": null,
            "grid_auto_flow": null,
            "grid_auto_rows": null,
            "grid_column": null,
            "grid_gap": null,
            "grid_row": null,
            "grid_template_areas": null,
            "grid_template_columns": null,
            "grid_template_rows": null,
            "height": null,
            "justify_content": null,
            "justify_items": null,
            "left": null,
            "margin": null,
            "max_height": null,
            "max_width": null,
            "min_height": null,
            "min_width": null,
            "object_fit": null,
            "object_position": null,
            "order": null,
            "overflow": null,
            "overflow_x": null,
            "overflow_y": null,
            "padding": null,
            "right": null,
            "top": null,
            "visibility": null,
            "width": null
          }
        },
        "596187b3ea1646d0be497ccd7119aae1": {
          "model_module": "@jupyter-widgets/controls",
          "model_name": "DescriptionStyleModel",
          "model_module_version": "1.5.0",
          "state": {
            "_model_module": "@jupyter-widgets/controls",
            "_model_module_version": "1.5.0",
            "_model_name": "DescriptionStyleModel",
            "_view_count": null,
            "_view_module": "@jupyter-widgets/base",
            "_view_module_version": "1.2.0",
            "_view_name": "StyleView",
            "description_width": ""
          }
        },
        "fbeeab313433491da85f0e1b36350771": {
          "model_module": "@jupyter-widgets/base",
          "model_name": "LayoutModel",
          "model_module_version": "1.2.0",
          "state": {
            "_model_module": "@jupyter-widgets/base",
            "_model_module_version": "1.2.0",
            "_model_name": "LayoutModel",
            "_view_count": null,
            "_view_module": "@jupyter-widgets/base",
            "_view_module_version": "1.2.0",
            "_view_name": "LayoutView",
            "align_content": null,
            "align_items": null,
            "align_self": null,
            "border": null,
            "bottom": null,
            "display": null,
            "flex": "2",
            "flex_flow": null,
            "grid_area": null,
            "grid_auto_columns": null,
            "grid_auto_flow": null,
            "grid_auto_rows": null,
            "grid_column": null,
            "grid_gap": null,
            "grid_row": null,
            "grid_template_areas": null,
            "grid_template_columns": null,
            "grid_template_rows": null,
            "height": null,
            "justify_content": null,
            "justify_items": null,
            "left": null,
            "margin": null,
            "max_height": null,
            "max_width": null,
            "min_height": null,
            "min_width": null,
            "object_fit": null,
            "object_position": null,
            "order": null,
            "overflow": null,
            "overflow_x": null,
            "overflow_y": null,
            "padding": null,
            "right": null,
            "top": null,
            "visibility": null,
            "width": null
          }
        },
        "bd5ac2c6755b4434b0d1d007dc981bee": {
          "model_module": "@jupyter-widgets/controls",
          "model_name": "ProgressStyleModel",
          "model_module_version": "1.5.0",
          "state": {
            "_model_module": "@jupyter-widgets/controls",
            "_model_module_version": "1.5.0",
            "_model_name": "ProgressStyleModel",
            "_view_count": null,
            "_view_module": "@jupyter-widgets/base",
            "_view_module_version": "1.2.0",
            "_view_name": "StyleView",
            "bar_color": null,
            "description_width": ""
          }
        },
        "a3d6b0e5bf6c471e838799480861539c": {
          "model_module": "@jupyter-widgets/base",
          "model_name": "LayoutModel",
          "model_module_version": "1.2.0",
          "state": {
            "_model_module": "@jupyter-widgets/base",
            "_model_module_version": "1.2.0",
            "_model_name": "LayoutModel",
            "_view_count": null,
            "_view_module": "@jupyter-widgets/base",
            "_view_module_version": "1.2.0",
            "_view_name": "LayoutView",
            "align_content": null,
            "align_items": null,
            "align_self": null,
            "border": null,
            "bottom": null,
            "display": null,
            "flex": null,
            "flex_flow": null,
            "grid_area": null,
            "grid_auto_columns": null,
            "grid_auto_flow": null,
            "grid_auto_rows": null,
            "grid_column": null,
            "grid_gap": null,
            "grid_row": null,
            "grid_template_areas": null,
            "grid_template_columns": null,
            "grid_template_rows": null,
            "height": null,
            "justify_content": null,
            "justify_items": null,
            "left": null,
            "margin": null,
            "max_height": null,
            "max_width": null,
            "min_height": null,
            "min_width": null,
            "object_fit": null,
            "object_position": null,
            "order": null,
            "overflow": null,
            "overflow_x": null,
            "overflow_y": null,
            "padding": null,
            "right": null,
            "top": null,
            "visibility": null,
            "width": null
          }
        },
        "e13c8788b2264bb9807cb48819222183": {
          "model_module": "@jupyter-widgets/controls",
          "model_name": "DescriptionStyleModel",
          "model_module_version": "1.5.0",
          "state": {
            "_model_module": "@jupyter-widgets/controls",
            "_model_module_version": "1.5.0",
            "_model_name": "DescriptionStyleModel",
            "_view_count": null,
            "_view_module": "@jupyter-widgets/base",
            "_view_module_version": "1.2.0",
            "_view_name": "StyleView",
            "description_width": ""
          }
        },
        "3e754a2778794098b9bccb3f4ca4daf2": {
          "model_module": "@jupyter-widgets/controls",
          "model_name": "HBoxModel",
          "model_module_version": "1.5.0",
          "state": {
            "_dom_classes": [],
            "_model_module": "@jupyter-widgets/controls",
            "_model_module_version": "1.5.0",
            "_model_name": "HBoxModel",
            "_view_count": null,
            "_view_module": "@jupyter-widgets/controls",
            "_view_module_version": "1.5.0",
            "_view_name": "HBoxView",
            "box_style": "",
            "children": [
              "IPY_MODEL_62b36983af674c80a09520f39e44f5cc",
              "IPY_MODEL_4c00604d0c0a47489c84bd5780128012",
              "IPY_MODEL_6ff937e654f345cf9426356b66dd2808"
            ],
            "layout": "IPY_MODEL_5e0c679cc8524e44bc4612b7f12f9e89"
          }
        },
        "62b36983af674c80a09520f39e44f5cc": {
          "model_module": "@jupyter-widgets/controls",
          "model_name": "HTMLModel",
          "model_module_version": "1.5.0",
          "state": {
            "_dom_classes": [],
            "_model_module": "@jupyter-widgets/controls",
            "_model_module_version": "1.5.0",
            "_model_name": "HTMLModel",
            "_view_count": null,
            "_view_module": "@jupyter-widgets/controls",
            "_view_module_version": "1.5.0",
            "_view_name": "HTMLView",
            "description": "",
            "description_tooltip": null,
            "layout": "IPY_MODEL_ee493525e160436ba69e93061f9f5654",
            "placeholder": "​",
            "style": "IPY_MODEL_5b438087df4c470a994b35e2534347c1",
            "value": "Validation DataLoader 0: 100%"
          }
        },
        "4c00604d0c0a47489c84bd5780128012": {
          "model_module": "@jupyter-widgets/controls",
          "model_name": "FloatProgressModel",
          "model_module_version": "1.5.0",
          "state": {
            "_dom_classes": [],
            "_model_module": "@jupyter-widgets/controls",
            "_model_module_version": "1.5.0",
            "_model_name": "FloatProgressModel",
            "_view_count": null,
            "_view_module": "@jupyter-widgets/controls",
            "_view_module_version": "1.5.0",
            "_view_name": "ProgressView",
            "bar_style": "info",
            "description": "",
            "description_tooltip": null,
            "layout": "IPY_MODEL_a1bb961ac83d49febbbe22ddb917917b",
            "max": 1,
            "min": 0,
            "orientation": "horizontal",
            "style": "IPY_MODEL_30e9df379693470dbd65ab2d307f8921",
            "value": 1
          }
        },
        "6ff937e654f345cf9426356b66dd2808": {
          "model_module": "@jupyter-widgets/controls",
          "model_name": "HTMLModel",
          "model_module_version": "1.5.0",
          "state": {
            "_dom_classes": [],
            "_model_module": "@jupyter-widgets/controls",
            "_model_module_version": "1.5.0",
            "_model_name": "HTMLModel",
            "_view_count": null,
            "_view_module": "@jupyter-widgets/controls",
            "_view_module_version": "1.5.0",
            "_view_name": "HTMLView",
            "description": "",
            "description_tooltip": null,
            "layout": "IPY_MODEL_081421dc92494536b61c5ec5490ce5f5",
            "placeholder": "​",
            "style": "IPY_MODEL_4a736c5346614549994d1da00d38436e",
            "value": " 6/6 [00:02&lt;00:00,  2.68it/s]"
          }
        },
        "5e0c679cc8524e44bc4612b7f12f9e89": {
          "model_module": "@jupyter-widgets/base",
          "model_name": "LayoutModel",
          "model_module_version": "1.2.0",
          "state": {
            "_model_module": "@jupyter-widgets/base",
            "_model_module_version": "1.2.0",
            "_model_name": "LayoutModel",
            "_view_count": null,
            "_view_module": "@jupyter-widgets/base",
            "_view_module_version": "1.2.0",
            "_view_name": "LayoutView",
            "align_content": null,
            "align_items": null,
            "align_self": null,
            "border": null,
            "bottom": null,
            "display": "inline-flex",
            "flex": null,
            "flex_flow": "row wrap",
            "grid_area": null,
            "grid_auto_columns": null,
            "grid_auto_flow": null,
            "grid_auto_rows": null,
            "grid_column": null,
            "grid_gap": null,
            "grid_row": null,
            "grid_template_areas": null,
            "grid_template_columns": null,
            "grid_template_rows": null,
            "height": null,
            "justify_content": null,
            "justify_items": null,
            "left": null,
            "margin": null,
            "max_height": null,
            "max_width": null,
            "min_height": null,
            "min_width": null,
            "object_fit": null,
            "object_position": null,
            "order": null,
            "overflow": null,
            "overflow_x": null,
            "overflow_y": null,
            "padding": null,
            "right": null,
            "top": null,
            "visibility": null,
            "width": "100%"
          }
        },
        "ee493525e160436ba69e93061f9f5654": {
          "model_module": "@jupyter-widgets/base",
          "model_name": "LayoutModel",
          "model_module_version": "1.2.0",
          "state": {
            "_model_module": "@jupyter-widgets/base",
            "_model_module_version": "1.2.0",
            "_model_name": "LayoutModel",
            "_view_count": null,
            "_view_module": "@jupyter-widgets/base",
            "_view_module_version": "1.2.0",
            "_view_name": "LayoutView",
            "align_content": null,
            "align_items": null,
            "align_self": null,
            "border": null,
            "bottom": null,
            "display": null,
            "flex": null,
            "flex_flow": null,
            "grid_area": null,
            "grid_auto_columns": null,
            "grid_auto_flow": null,
            "grid_auto_rows": null,
            "grid_column": null,
            "grid_gap": null,
            "grid_row": null,
            "grid_template_areas": null,
            "grid_template_columns": null,
            "grid_template_rows": null,
            "height": null,
            "justify_content": null,
            "justify_items": null,
            "left": null,
            "margin": null,
            "max_height": null,
            "max_width": null,
            "min_height": null,
            "min_width": null,
            "object_fit": null,
            "object_position": null,
            "order": null,
            "overflow": null,
            "overflow_x": null,
            "overflow_y": null,
            "padding": null,
            "right": null,
            "top": null,
            "visibility": null,
            "width": null
          }
        },
        "5b438087df4c470a994b35e2534347c1": {
          "model_module": "@jupyter-widgets/controls",
          "model_name": "DescriptionStyleModel",
          "model_module_version": "1.5.0",
          "state": {
            "_model_module": "@jupyter-widgets/controls",
            "_model_module_version": "1.5.0",
            "_model_name": "DescriptionStyleModel",
            "_view_count": null,
            "_view_module": "@jupyter-widgets/base",
            "_view_module_version": "1.2.0",
            "_view_name": "StyleView",
            "description_width": ""
          }
        },
        "a1bb961ac83d49febbbe22ddb917917b": {
          "model_module": "@jupyter-widgets/base",
          "model_name": "LayoutModel",
          "model_module_version": "1.2.0",
          "state": {
            "_model_module": "@jupyter-widgets/base",
            "_model_module_version": "1.2.0",
            "_model_name": "LayoutModel",
            "_view_count": null,
            "_view_module": "@jupyter-widgets/base",
            "_view_module_version": "1.2.0",
            "_view_name": "LayoutView",
            "align_content": null,
            "align_items": null,
            "align_self": null,
            "border": null,
            "bottom": null,
            "display": null,
            "flex": "2",
            "flex_flow": null,
            "grid_area": null,
            "grid_auto_columns": null,
            "grid_auto_flow": null,
            "grid_auto_rows": null,
            "grid_column": null,
            "grid_gap": null,
            "grid_row": null,
            "grid_template_areas": null,
            "grid_template_columns": null,
            "grid_template_rows": null,
            "height": null,
            "justify_content": null,
            "justify_items": null,
            "left": null,
            "margin": null,
            "max_height": null,
            "max_width": null,
            "min_height": null,
            "min_width": null,
            "object_fit": null,
            "object_position": null,
            "order": null,
            "overflow": null,
            "overflow_x": null,
            "overflow_y": null,
            "padding": null,
            "right": null,
            "top": null,
            "visibility": null,
            "width": null
          }
        },
        "30e9df379693470dbd65ab2d307f8921": {
          "model_module": "@jupyter-widgets/controls",
          "model_name": "ProgressStyleModel",
          "model_module_version": "1.5.0",
          "state": {
            "_model_module": "@jupyter-widgets/controls",
            "_model_module_version": "1.5.0",
            "_model_name": "ProgressStyleModel",
            "_view_count": null,
            "_view_module": "@jupyter-widgets/base",
            "_view_module_version": "1.2.0",
            "_view_name": "StyleView",
            "bar_color": null,
            "description_width": ""
          }
        },
        "081421dc92494536b61c5ec5490ce5f5": {
          "model_module": "@jupyter-widgets/base",
          "model_name": "LayoutModel",
          "model_module_version": "1.2.0",
          "state": {
            "_model_module": "@jupyter-widgets/base",
            "_model_module_version": "1.2.0",
            "_model_name": "LayoutModel",
            "_view_count": null,
            "_view_module": "@jupyter-widgets/base",
            "_view_module_version": "1.2.0",
            "_view_name": "LayoutView",
            "align_content": null,
            "align_items": null,
            "align_self": null,
            "border": null,
            "bottom": null,
            "display": null,
            "flex": null,
            "flex_flow": null,
            "grid_area": null,
            "grid_auto_columns": null,
            "grid_auto_flow": null,
            "grid_auto_rows": null,
            "grid_column": null,
            "grid_gap": null,
            "grid_row": null,
            "grid_template_areas": null,
            "grid_template_columns": null,
            "grid_template_rows": null,
            "height": null,
            "justify_content": null,
            "justify_items": null,
            "left": null,
            "margin": null,
            "max_height": null,
            "max_width": null,
            "min_height": null,
            "min_width": null,
            "object_fit": null,
            "object_position": null,
            "order": null,
            "overflow": null,
            "overflow_x": null,
            "overflow_y": null,
            "padding": null,
            "right": null,
            "top": null,
            "visibility": null,
            "width": null
          }
        },
        "4a736c5346614549994d1da00d38436e": {
          "model_module": "@jupyter-widgets/controls",
          "model_name": "DescriptionStyleModel",
          "model_module_version": "1.5.0",
          "state": {
            "_model_module": "@jupyter-widgets/controls",
            "_model_module_version": "1.5.0",
            "_model_name": "DescriptionStyleModel",
            "_view_count": null,
            "_view_module": "@jupyter-widgets/base",
            "_view_module_version": "1.2.0",
            "_view_name": "StyleView",
            "description_width": ""
          }
        },
        "60a191a96be343cd9d8948a5373777cd": {
          "model_module": "@jupyter-widgets/controls",
          "model_name": "HBoxModel",
          "model_module_version": "1.5.0",
          "state": {
            "_dom_classes": [],
            "_model_module": "@jupyter-widgets/controls",
            "_model_module_version": "1.5.0",
            "_model_name": "HBoxModel",
            "_view_count": null,
            "_view_module": "@jupyter-widgets/controls",
            "_view_module_version": "1.5.0",
            "_view_name": "HBoxView",
            "box_style": "",
            "children": [
              "IPY_MODEL_ec15bda5ea39459b8f1f6cd2365d29d6",
              "IPY_MODEL_71b22404f2e946868e7e752afb6930d4",
              "IPY_MODEL_54588b1e9ed04013bddc594895280cc0"
            ],
            "layout": "IPY_MODEL_8c1c354dbdeb44929ba26f8851ba9b9e"
          }
        },
        "ec15bda5ea39459b8f1f6cd2365d29d6": {
          "model_module": "@jupyter-widgets/controls",
          "model_name": "HTMLModel",
          "model_module_version": "1.5.0",
          "state": {
            "_dom_classes": [],
            "_model_module": "@jupyter-widgets/controls",
            "_model_module_version": "1.5.0",
            "_model_name": "HTMLModel",
            "_view_count": null,
            "_view_module": "@jupyter-widgets/controls",
            "_view_module_version": "1.5.0",
            "_view_name": "HTMLView",
            "description": "",
            "description_tooltip": null,
            "layout": "IPY_MODEL_b08e7cea8c0c4b05aa2629d93d16915c",
            "placeholder": "​",
            "style": "IPY_MODEL_fde2372975d14cb8ba3182a4faff9a34",
            "value": "Validation DataLoader 0: 100%"
          }
        },
        "71b22404f2e946868e7e752afb6930d4": {
          "model_module": "@jupyter-widgets/controls",
          "model_name": "FloatProgressModel",
          "model_module_version": "1.5.0",
          "state": {
            "_dom_classes": [],
            "_model_module": "@jupyter-widgets/controls",
            "_model_module_version": "1.5.0",
            "_model_name": "FloatProgressModel",
            "_view_count": null,
            "_view_module": "@jupyter-widgets/controls",
            "_view_module_version": "1.5.0",
            "_view_name": "ProgressView",
            "bar_style": "info",
            "description": "",
            "description_tooltip": null,
            "layout": "IPY_MODEL_2cccfd76bbbf4ddc8e9a9e97e6dd993d",
            "max": 1,
            "min": 0,
            "orientation": "horizontal",
            "style": "IPY_MODEL_3b2929a10a31477e8de3cc9429e8e2d0",
            "value": 1
          }
        },
        "54588b1e9ed04013bddc594895280cc0": {
          "model_module": "@jupyter-widgets/controls",
          "model_name": "HTMLModel",
          "model_module_version": "1.5.0",
          "state": {
            "_dom_classes": [],
            "_model_module": "@jupyter-widgets/controls",
            "_model_module_version": "1.5.0",
            "_model_name": "HTMLModel",
            "_view_count": null,
            "_view_module": "@jupyter-widgets/controls",
            "_view_module_version": "1.5.0",
            "_view_name": "HTMLView",
            "description": "",
            "description_tooltip": null,
            "layout": "IPY_MODEL_4b552a07f4e24ff1900dc41e6832e3bc",
            "placeholder": "​",
            "style": "IPY_MODEL_ce5c704dd2dd4cc5b1c342109d208615",
            "value": " 6/6 [00:02&lt;00:00,  2.64it/s]"
          }
        },
        "8c1c354dbdeb44929ba26f8851ba9b9e": {
          "model_module": "@jupyter-widgets/base",
          "model_name": "LayoutModel",
          "model_module_version": "1.2.0",
          "state": {
            "_model_module": "@jupyter-widgets/base",
            "_model_module_version": "1.2.0",
            "_model_name": "LayoutModel",
            "_view_count": null,
            "_view_module": "@jupyter-widgets/base",
            "_view_module_version": "1.2.0",
            "_view_name": "LayoutView",
            "align_content": null,
            "align_items": null,
            "align_self": null,
            "border": null,
            "bottom": null,
            "display": "inline-flex",
            "flex": null,
            "flex_flow": "row wrap",
            "grid_area": null,
            "grid_auto_columns": null,
            "grid_auto_flow": null,
            "grid_auto_rows": null,
            "grid_column": null,
            "grid_gap": null,
            "grid_row": null,
            "grid_template_areas": null,
            "grid_template_columns": null,
            "grid_template_rows": null,
            "height": null,
            "justify_content": null,
            "justify_items": null,
            "left": null,
            "margin": null,
            "max_height": null,
            "max_width": null,
            "min_height": null,
            "min_width": null,
            "object_fit": null,
            "object_position": null,
            "order": null,
            "overflow": null,
            "overflow_x": null,
            "overflow_y": null,
            "padding": null,
            "right": null,
            "top": null,
            "visibility": null,
            "width": "100%"
          }
        },
        "b08e7cea8c0c4b05aa2629d93d16915c": {
          "model_module": "@jupyter-widgets/base",
          "model_name": "LayoutModel",
          "model_module_version": "1.2.0",
          "state": {
            "_model_module": "@jupyter-widgets/base",
            "_model_module_version": "1.2.0",
            "_model_name": "LayoutModel",
            "_view_count": null,
            "_view_module": "@jupyter-widgets/base",
            "_view_module_version": "1.2.0",
            "_view_name": "LayoutView",
            "align_content": null,
            "align_items": null,
            "align_self": null,
            "border": null,
            "bottom": null,
            "display": null,
            "flex": null,
            "flex_flow": null,
            "grid_area": null,
            "grid_auto_columns": null,
            "grid_auto_flow": null,
            "grid_auto_rows": null,
            "grid_column": null,
            "grid_gap": null,
            "grid_row": null,
            "grid_template_areas": null,
            "grid_template_columns": null,
            "grid_template_rows": null,
            "height": null,
            "justify_content": null,
            "justify_items": null,
            "left": null,
            "margin": null,
            "max_height": null,
            "max_width": null,
            "min_height": null,
            "min_width": null,
            "object_fit": null,
            "object_position": null,
            "order": null,
            "overflow": null,
            "overflow_x": null,
            "overflow_y": null,
            "padding": null,
            "right": null,
            "top": null,
            "visibility": null,
            "width": null
          }
        },
        "fde2372975d14cb8ba3182a4faff9a34": {
          "model_module": "@jupyter-widgets/controls",
          "model_name": "DescriptionStyleModel",
          "model_module_version": "1.5.0",
          "state": {
            "_model_module": "@jupyter-widgets/controls",
            "_model_module_version": "1.5.0",
            "_model_name": "DescriptionStyleModel",
            "_view_count": null,
            "_view_module": "@jupyter-widgets/base",
            "_view_module_version": "1.2.0",
            "_view_name": "StyleView",
            "description_width": ""
          }
        },
        "2cccfd76bbbf4ddc8e9a9e97e6dd993d": {
          "model_module": "@jupyter-widgets/base",
          "model_name": "LayoutModel",
          "model_module_version": "1.2.0",
          "state": {
            "_model_module": "@jupyter-widgets/base",
            "_model_module_version": "1.2.0",
            "_model_name": "LayoutModel",
            "_view_count": null,
            "_view_module": "@jupyter-widgets/base",
            "_view_module_version": "1.2.0",
            "_view_name": "LayoutView",
            "align_content": null,
            "align_items": null,
            "align_self": null,
            "border": null,
            "bottom": null,
            "display": null,
            "flex": "2",
            "flex_flow": null,
            "grid_area": null,
            "grid_auto_columns": null,
            "grid_auto_flow": null,
            "grid_auto_rows": null,
            "grid_column": null,
            "grid_gap": null,
            "grid_row": null,
            "grid_template_areas": null,
            "grid_template_columns": null,
            "grid_template_rows": null,
            "height": null,
            "justify_content": null,
            "justify_items": null,
            "left": null,
            "margin": null,
            "max_height": null,
            "max_width": null,
            "min_height": null,
            "min_width": null,
            "object_fit": null,
            "object_position": null,
            "order": null,
            "overflow": null,
            "overflow_x": null,
            "overflow_y": null,
            "padding": null,
            "right": null,
            "top": null,
            "visibility": null,
            "width": null
          }
        },
        "3b2929a10a31477e8de3cc9429e8e2d0": {
          "model_module": "@jupyter-widgets/controls",
          "model_name": "ProgressStyleModel",
          "model_module_version": "1.5.0",
          "state": {
            "_model_module": "@jupyter-widgets/controls",
            "_model_module_version": "1.5.0",
            "_model_name": "ProgressStyleModel",
            "_view_count": null,
            "_view_module": "@jupyter-widgets/base",
            "_view_module_version": "1.2.0",
            "_view_name": "StyleView",
            "bar_color": null,
            "description_width": ""
          }
        },
        "4b552a07f4e24ff1900dc41e6832e3bc": {
          "model_module": "@jupyter-widgets/base",
          "model_name": "LayoutModel",
          "model_module_version": "1.2.0",
          "state": {
            "_model_module": "@jupyter-widgets/base",
            "_model_module_version": "1.2.0",
            "_model_name": "LayoutModel",
            "_view_count": null,
            "_view_module": "@jupyter-widgets/base",
            "_view_module_version": "1.2.0",
            "_view_name": "LayoutView",
            "align_content": null,
            "align_items": null,
            "align_self": null,
            "border": null,
            "bottom": null,
            "display": null,
            "flex": null,
            "flex_flow": null,
            "grid_area": null,
            "grid_auto_columns": null,
            "grid_auto_flow": null,
            "grid_auto_rows": null,
            "grid_column": null,
            "grid_gap": null,
            "grid_row": null,
            "grid_template_areas": null,
            "grid_template_columns": null,
            "grid_template_rows": null,
            "height": null,
            "justify_content": null,
            "justify_items": null,
            "left": null,
            "margin": null,
            "max_height": null,
            "max_width": null,
            "min_height": null,
            "min_width": null,
            "object_fit": null,
            "object_position": null,
            "order": null,
            "overflow": null,
            "overflow_x": null,
            "overflow_y": null,
            "padding": null,
            "right": null,
            "top": null,
            "visibility": null,
            "width": null
          }
        },
        "ce5c704dd2dd4cc5b1c342109d208615": {
          "model_module": "@jupyter-widgets/controls",
          "model_name": "DescriptionStyleModel",
          "model_module_version": "1.5.0",
          "state": {
            "_model_module": "@jupyter-widgets/controls",
            "_model_module_version": "1.5.0",
            "_model_name": "DescriptionStyleModel",
            "_view_count": null,
            "_view_module": "@jupyter-widgets/base",
            "_view_module_version": "1.2.0",
            "_view_name": "StyleView",
            "description_width": ""
          }
        },
        "e776d6c722aa44f7b7c46b6f7819d0b3": {
          "model_module": "@jupyter-widgets/controls",
          "model_name": "HBoxModel",
          "model_module_version": "1.5.0",
          "state": {
            "_dom_classes": [],
            "_model_module": "@jupyter-widgets/controls",
            "_model_module_version": "1.5.0",
            "_model_name": "HBoxModel",
            "_view_count": null,
            "_view_module": "@jupyter-widgets/controls",
            "_view_module_version": "1.5.0",
            "_view_name": "HBoxView",
            "box_style": "",
            "children": [
              "IPY_MODEL_0951dc355b4a4833a646a06aee3d3c9a",
              "IPY_MODEL_456946b181ea4205b03322779947485d",
              "IPY_MODEL_05e52b1d7c10418da0a177e3592c0771"
            ],
            "layout": "IPY_MODEL_4f0b95ef53d74730acd20a06c89c93ca"
          }
        },
        "0951dc355b4a4833a646a06aee3d3c9a": {
          "model_module": "@jupyter-widgets/controls",
          "model_name": "HTMLModel",
          "model_module_version": "1.5.0",
          "state": {
            "_dom_classes": [],
            "_model_module": "@jupyter-widgets/controls",
            "_model_module_version": "1.5.0",
            "_model_name": "HTMLModel",
            "_view_count": null,
            "_view_module": "@jupyter-widgets/controls",
            "_view_module_version": "1.5.0",
            "_view_name": "HTMLView",
            "description": "",
            "description_tooltip": null,
            "layout": "IPY_MODEL_6c5bd79e1c474c968f00afdd51b7f53b",
            "placeholder": "​",
            "style": "IPY_MODEL_083aa99173144bd799977212d0cc65f3",
            "value": "Validation DataLoader 0: 100%"
          }
        },
        "456946b181ea4205b03322779947485d": {
          "model_module": "@jupyter-widgets/controls",
          "model_name": "FloatProgressModel",
          "model_module_version": "1.5.0",
          "state": {
            "_dom_classes": [],
            "_model_module": "@jupyter-widgets/controls",
            "_model_module_version": "1.5.0",
            "_model_name": "FloatProgressModel",
            "_view_count": null,
            "_view_module": "@jupyter-widgets/controls",
            "_view_module_version": "1.5.0",
            "_view_name": "ProgressView",
            "bar_style": "info",
            "description": "",
            "description_tooltip": null,
            "layout": "IPY_MODEL_a0a7832153a34633a707ccea348f0f20",
            "max": 1,
            "min": 0,
            "orientation": "horizontal",
            "style": "IPY_MODEL_1d254fa01e8e490dafdf097de2a41904",
            "value": 1
          }
        },
        "05e52b1d7c10418da0a177e3592c0771": {
          "model_module": "@jupyter-widgets/controls",
          "model_name": "HTMLModel",
          "model_module_version": "1.5.0",
          "state": {
            "_dom_classes": [],
            "_model_module": "@jupyter-widgets/controls",
            "_model_module_version": "1.5.0",
            "_model_name": "HTMLModel",
            "_view_count": null,
            "_view_module": "@jupyter-widgets/controls",
            "_view_module_version": "1.5.0",
            "_view_name": "HTMLView",
            "description": "",
            "description_tooltip": null,
            "layout": "IPY_MODEL_c44c74a1a2c546b1aa414e3b9dd8dd9d",
            "placeholder": "​",
            "style": "IPY_MODEL_04dc82b3bcd74f1384ef231859dd5258",
            "value": " 6/6 [00:02&lt;00:00,  2.67it/s]"
          }
        },
        "4f0b95ef53d74730acd20a06c89c93ca": {
          "model_module": "@jupyter-widgets/base",
          "model_name": "LayoutModel",
          "model_module_version": "1.2.0",
          "state": {
            "_model_module": "@jupyter-widgets/base",
            "_model_module_version": "1.2.0",
            "_model_name": "LayoutModel",
            "_view_count": null,
            "_view_module": "@jupyter-widgets/base",
            "_view_module_version": "1.2.0",
            "_view_name": "LayoutView",
            "align_content": null,
            "align_items": null,
            "align_self": null,
            "border": null,
            "bottom": null,
            "display": "inline-flex",
            "flex": null,
            "flex_flow": "row wrap",
            "grid_area": null,
            "grid_auto_columns": null,
            "grid_auto_flow": null,
            "grid_auto_rows": null,
            "grid_column": null,
            "grid_gap": null,
            "grid_row": null,
            "grid_template_areas": null,
            "grid_template_columns": null,
            "grid_template_rows": null,
            "height": null,
            "justify_content": null,
            "justify_items": null,
            "left": null,
            "margin": null,
            "max_height": null,
            "max_width": null,
            "min_height": null,
            "min_width": null,
            "object_fit": null,
            "object_position": null,
            "order": null,
            "overflow": null,
            "overflow_x": null,
            "overflow_y": null,
            "padding": null,
            "right": null,
            "top": null,
            "visibility": null,
            "width": "100%"
          }
        },
        "6c5bd79e1c474c968f00afdd51b7f53b": {
          "model_module": "@jupyter-widgets/base",
          "model_name": "LayoutModel",
          "model_module_version": "1.2.0",
          "state": {
            "_model_module": "@jupyter-widgets/base",
            "_model_module_version": "1.2.0",
            "_model_name": "LayoutModel",
            "_view_count": null,
            "_view_module": "@jupyter-widgets/base",
            "_view_module_version": "1.2.0",
            "_view_name": "LayoutView",
            "align_content": null,
            "align_items": null,
            "align_self": null,
            "border": null,
            "bottom": null,
            "display": null,
            "flex": null,
            "flex_flow": null,
            "grid_area": null,
            "grid_auto_columns": null,
            "grid_auto_flow": null,
            "grid_auto_rows": null,
            "grid_column": null,
            "grid_gap": null,
            "grid_row": null,
            "grid_template_areas": null,
            "grid_template_columns": null,
            "grid_template_rows": null,
            "height": null,
            "justify_content": null,
            "justify_items": null,
            "left": null,
            "margin": null,
            "max_height": null,
            "max_width": null,
            "min_height": null,
            "min_width": null,
            "object_fit": null,
            "object_position": null,
            "order": null,
            "overflow": null,
            "overflow_x": null,
            "overflow_y": null,
            "padding": null,
            "right": null,
            "top": null,
            "visibility": null,
            "width": null
          }
        },
        "083aa99173144bd799977212d0cc65f3": {
          "model_module": "@jupyter-widgets/controls",
          "model_name": "DescriptionStyleModel",
          "model_module_version": "1.5.0",
          "state": {
            "_model_module": "@jupyter-widgets/controls",
            "_model_module_version": "1.5.0",
            "_model_name": "DescriptionStyleModel",
            "_view_count": null,
            "_view_module": "@jupyter-widgets/base",
            "_view_module_version": "1.2.0",
            "_view_name": "StyleView",
            "description_width": ""
          }
        },
        "a0a7832153a34633a707ccea348f0f20": {
          "model_module": "@jupyter-widgets/base",
          "model_name": "LayoutModel",
          "model_module_version": "1.2.0",
          "state": {
            "_model_module": "@jupyter-widgets/base",
            "_model_module_version": "1.2.0",
            "_model_name": "LayoutModel",
            "_view_count": null,
            "_view_module": "@jupyter-widgets/base",
            "_view_module_version": "1.2.0",
            "_view_name": "LayoutView",
            "align_content": null,
            "align_items": null,
            "align_self": null,
            "border": null,
            "bottom": null,
            "display": null,
            "flex": "2",
            "flex_flow": null,
            "grid_area": null,
            "grid_auto_columns": null,
            "grid_auto_flow": null,
            "grid_auto_rows": null,
            "grid_column": null,
            "grid_gap": null,
            "grid_row": null,
            "grid_template_areas": null,
            "grid_template_columns": null,
            "grid_template_rows": null,
            "height": null,
            "justify_content": null,
            "justify_items": null,
            "left": null,
            "margin": null,
            "max_height": null,
            "max_width": null,
            "min_height": null,
            "min_width": null,
            "object_fit": null,
            "object_position": null,
            "order": null,
            "overflow": null,
            "overflow_x": null,
            "overflow_y": null,
            "padding": null,
            "right": null,
            "top": null,
            "visibility": null,
            "width": null
          }
        },
        "1d254fa01e8e490dafdf097de2a41904": {
          "model_module": "@jupyter-widgets/controls",
          "model_name": "ProgressStyleModel",
          "model_module_version": "1.5.0",
          "state": {
            "_model_module": "@jupyter-widgets/controls",
            "_model_module_version": "1.5.0",
            "_model_name": "ProgressStyleModel",
            "_view_count": null,
            "_view_module": "@jupyter-widgets/base",
            "_view_module_version": "1.2.0",
            "_view_name": "StyleView",
            "bar_color": null,
            "description_width": ""
          }
        },
        "c44c74a1a2c546b1aa414e3b9dd8dd9d": {
          "model_module": "@jupyter-widgets/base",
          "model_name": "LayoutModel",
          "model_module_version": "1.2.0",
          "state": {
            "_model_module": "@jupyter-widgets/base",
            "_model_module_version": "1.2.0",
            "_model_name": "LayoutModel",
            "_view_count": null,
            "_view_module": "@jupyter-widgets/base",
            "_view_module_version": "1.2.0",
            "_view_name": "LayoutView",
            "align_content": null,
            "align_items": null,
            "align_self": null,
            "border": null,
            "bottom": null,
            "display": null,
            "flex": null,
            "flex_flow": null,
            "grid_area": null,
            "grid_auto_columns": null,
            "grid_auto_flow": null,
            "grid_auto_rows": null,
            "grid_column": null,
            "grid_gap": null,
            "grid_row": null,
            "grid_template_areas": null,
            "grid_template_columns": null,
            "grid_template_rows": null,
            "height": null,
            "justify_content": null,
            "justify_items": null,
            "left": null,
            "margin": null,
            "max_height": null,
            "max_width": null,
            "min_height": null,
            "min_width": null,
            "object_fit": null,
            "object_position": null,
            "order": null,
            "overflow": null,
            "overflow_x": null,
            "overflow_y": null,
            "padding": null,
            "right": null,
            "top": null,
            "visibility": null,
            "width": null
          }
        },
        "04dc82b3bcd74f1384ef231859dd5258": {
          "model_module": "@jupyter-widgets/controls",
          "model_name": "DescriptionStyleModel",
          "model_module_version": "1.5.0",
          "state": {
            "_model_module": "@jupyter-widgets/controls",
            "_model_module_version": "1.5.0",
            "_model_name": "DescriptionStyleModel",
            "_view_count": null,
            "_view_module": "@jupyter-widgets/base",
            "_view_module_version": "1.2.0",
            "_view_name": "StyleView",
            "description_width": ""
          }
        },
        "6d89e40df3c7417a90b4c15de840c4d2": {
          "model_module": "@jupyter-widgets/controls",
          "model_name": "HBoxModel",
          "model_module_version": "1.5.0",
          "state": {
            "_dom_classes": [],
            "_model_module": "@jupyter-widgets/controls",
            "_model_module_version": "1.5.0",
            "_model_name": "HBoxModel",
            "_view_count": null,
            "_view_module": "@jupyter-widgets/controls",
            "_view_module_version": "1.5.0",
            "_view_name": "HBoxView",
            "box_style": "",
            "children": [
              "IPY_MODEL_6d2dd308cae04d5ca642cb9ff3110163",
              "IPY_MODEL_e072555eae144689a0844fc1ad2c4677",
              "IPY_MODEL_a90218f721294cf0a3536acd996fcf72"
            ],
            "layout": "IPY_MODEL_7439eea35a9046188db2273df40e6eb9"
          }
        },
        "6d2dd308cae04d5ca642cb9ff3110163": {
          "model_module": "@jupyter-widgets/controls",
          "model_name": "HTMLModel",
          "model_module_version": "1.5.0",
          "state": {
            "_dom_classes": [],
            "_model_module": "@jupyter-widgets/controls",
            "_model_module_version": "1.5.0",
            "_model_name": "HTMLModel",
            "_view_count": null,
            "_view_module": "@jupyter-widgets/controls",
            "_view_module_version": "1.5.0",
            "_view_name": "HTMLView",
            "description": "",
            "description_tooltip": null,
            "layout": "IPY_MODEL_42b03335e698481992451013668139b3",
            "placeholder": "​",
            "style": "IPY_MODEL_fdd4a4b2fc4a43c7b74d74ee4ed79ada",
            "value": "Testing DataLoader 0: 100%"
          }
        },
        "e072555eae144689a0844fc1ad2c4677": {
          "model_module": "@jupyter-widgets/controls",
          "model_name": "FloatProgressModel",
          "model_module_version": "1.5.0",
          "state": {
            "_dom_classes": [],
            "_model_module": "@jupyter-widgets/controls",
            "_model_module_version": "1.5.0",
            "_model_name": "FloatProgressModel",
            "_view_count": null,
            "_view_module": "@jupyter-widgets/controls",
            "_view_module_version": "1.5.0",
            "_view_name": "ProgressView",
            "bar_style": "success",
            "description": "",
            "description_tooltip": null,
            "layout": "IPY_MODEL_79066454e29845ef9d931d128ce192b2",
            "max": 1,
            "min": 0,
            "orientation": "horizontal",
            "style": "IPY_MODEL_acb239d8c2e54510b6e1c9d86c8c2a08",
            "value": 1
          }
        },
        "a90218f721294cf0a3536acd996fcf72": {
          "model_module": "@jupyter-widgets/controls",
          "model_name": "HTMLModel",
          "model_module_version": "1.5.0",
          "state": {
            "_dom_classes": [],
            "_model_module": "@jupyter-widgets/controls",
            "_model_module_version": "1.5.0",
            "_model_name": "HTMLModel",
            "_view_count": null,
            "_view_module": "@jupyter-widgets/controls",
            "_view_module_version": "1.5.0",
            "_view_name": "HTMLView",
            "description": "",
            "description_tooltip": null,
            "layout": "IPY_MODEL_c53d3d5219c94b27bad56aa6c78a0a0e",
            "placeholder": "​",
            "style": "IPY_MODEL_82970eccfce6404b95d21c48285ff36b",
            "value": " 23/23 [00:05&lt;00:00,  4.52it/s]"
          }
        },
        "7439eea35a9046188db2273df40e6eb9": {
          "model_module": "@jupyter-widgets/base",
          "model_name": "LayoutModel",
          "model_module_version": "1.2.0",
          "state": {
            "_model_module": "@jupyter-widgets/base",
            "_model_module_version": "1.2.0",
            "_model_name": "LayoutModel",
            "_view_count": null,
            "_view_module": "@jupyter-widgets/base",
            "_view_module_version": "1.2.0",
            "_view_name": "LayoutView",
            "align_content": null,
            "align_items": null,
            "align_self": null,
            "border": null,
            "bottom": null,
            "display": "inline-flex",
            "flex": null,
            "flex_flow": "row wrap",
            "grid_area": null,
            "grid_auto_columns": null,
            "grid_auto_flow": null,
            "grid_auto_rows": null,
            "grid_column": null,
            "grid_gap": null,
            "grid_row": null,
            "grid_template_areas": null,
            "grid_template_columns": null,
            "grid_template_rows": null,
            "height": null,
            "justify_content": null,
            "justify_items": null,
            "left": null,
            "margin": null,
            "max_height": null,
            "max_width": null,
            "min_height": null,
            "min_width": null,
            "object_fit": null,
            "object_position": null,
            "order": null,
            "overflow": null,
            "overflow_x": null,
            "overflow_y": null,
            "padding": null,
            "right": null,
            "top": null,
            "visibility": null,
            "width": "100%"
          }
        },
        "42b03335e698481992451013668139b3": {
          "model_module": "@jupyter-widgets/base",
          "model_name": "LayoutModel",
          "model_module_version": "1.2.0",
          "state": {
            "_model_module": "@jupyter-widgets/base",
            "_model_module_version": "1.2.0",
            "_model_name": "LayoutModel",
            "_view_count": null,
            "_view_module": "@jupyter-widgets/base",
            "_view_module_version": "1.2.0",
            "_view_name": "LayoutView",
            "align_content": null,
            "align_items": null,
            "align_self": null,
            "border": null,
            "bottom": null,
            "display": null,
            "flex": null,
            "flex_flow": null,
            "grid_area": null,
            "grid_auto_columns": null,
            "grid_auto_flow": null,
            "grid_auto_rows": null,
            "grid_column": null,
            "grid_gap": null,
            "grid_row": null,
            "grid_template_areas": null,
            "grid_template_columns": null,
            "grid_template_rows": null,
            "height": null,
            "justify_content": null,
            "justify_items": null,
            "left": null,
            "margin": null,
            "max_height": null,
            "max_width": null,
            "min_height": null,
            "min_width": null,
            "object_fit": null,
            "object_position": null,
            "order": null,
            "overflow": null,
            "overflow_x": null,
            "overflow_y": null,
            "padding": null,
            "right": null,
            "top": null,
            "visibility": null,
            "width": null
          }
        },
        "fdd4a4b2fc4a43c7b74d74ee4ed79ada": {
          "model_module": "@jupyter-widgets/controls",
          "model_name": "DescriptionStyleModel",
          "model_module_version": "1.5.0",
          "state": {
            "_model_module": "@jupyter-widgets/controls",
            "_model_module_version": "1.5.0",
            "_model_name": "DescriptionStyleModel",
            "_view_count": null,
            "_view_module": "@jupyter-widgets/base",
            "_view_module_version": "1.2.0",
            "_view_name": "StyleView",
            "description_width": ""
          }
        },
        "79066454e29845ef9d931d128ce192b2": {
          "model_module": "@jupyter-widgets/base",
          "model_name": "LayoutModel",
          "model_module_version": "1.2.0",
          "state": {
            "_model_module": "@jupyter-widgets/base",
            "_model_module_version": "1.2.0",
            "_model_name": "LayoutModel",
            "_view_count": null,
            "_view_module": "@jupyter-widgets/base",
            "_view_module_version": "1.2.0",
            "_view_name": "LayoutView",
            "align_content": null,
            "align_items": null,
            "align_self": null,
            "border": null,
            "bottom": null,
            "display": null,
            "flex": "2",
            "flex_flow": null,
            "grid_area": null,
            "grid_auto_columns": null,
            "grid_auto_flow": null,
            "grid_auto_rows": null,
            "grid_column": null,
            "grid_gap": null,
            "grid_row": null,
            "grid_template_areas": null,
            "grid_template_columns": null,
            "grid_template_rows": null,
            "height": null,
            "justify_content": null,
            "justify_items": null,
            "left": null,
            "margin": null,
            "max_height": null,
            "max_width": null,
            "min_height": null,
            "min_width": null,
            "object_fit": null,
            "object_position": null,
            "order": null,
            "overflow": null,
            "overflow_x": null,
            "overflow_y": null,
            "padding": null,
            "right": null,
            "top": null,
            "visibility": null,
            "width": null
          }
        },
        "acb239d8c2e54510b6e1c9d86c8c2a08": {
          "model_module": "@jupyter-widgets/controls",
          "model_name": "ProgressStyleModel",
          "model_module_version": "1.5.0",
          "state": {
            "_model_module": "@jupyter-widgets/controls",
            "_model_module_version": "1.5.0",
            "_model_name": "ProgressStyleModel",
            "_view_count": null,
            "_view_module": "@jupyter-widgets/base",
            "_view_module_version": "1.2.0",
            "_view_name": "StyleView",
            "bar_color": null,
            "description_width": ""
          }
        },
        "c53d3d5219c94b27bad56aa6c78a0a0e": {
          "model_module": "@jupyter-widgets/base",
          "model_name": "LayoutModel",
          "model_module_version": "1.2.0",
          "state": {
            "_model_module": "@jupyter-widgets/base",
            "_model_module_version": "1.2.0",
            "_model_name": "LayoutModel",
            "_view_count": null,
            "_view_module": "@jupyter-widgets/base",
            "_view_module_version": "1.2.0",
            "_view_name": "LayoutView",
            "align_content": null,
            "align_items": null,
            "align_self": null,
            "border": null,
            "bottom": null,
            "display": null,
            "flex": null,
            "flex_flow": null,
            "grid_area": null,
            "grid_auto_columns": null,
            "grid_auto_flow": null,
            "grid_auto_rows": null,
            "grid_column": null,
            "grid_gap": null,
            "grid_row": null,
            "grid_template_areas": null,
            "grid_template_columns": null,
            "grid_template_rows": null,
            "height": null,
            "justify_content": null,
            "justify_items": null,
            "left": null,
            "margin": null,
            "max_height": null,
            "max_width": null,
            "min_height": null,
            "min_width": null,
            "object_fit": null,
            "object_position": null,
            "order": null,
            "overflow": null,
            "overflow_x": null,
            "overflow_y": null,
            "padding": null,
            "right": null,
            "top": null,
            "visibility": null,
            "width": null
          }
        },
        "82970eccfce6404b95d21c48285ff36b": {
          "model_module": "@jupyter-widgets/controls",
          "model_name": "DescriptionStyleModel",
          "model_module_version": "1.5.0",
          "state": {
            "_model_module": "@jupyter-widgets/controls",
            "_model_module_version": "1.5.0",
            "_model_name": "DescriptionStyleModel",
            "_view_count": null,
            "_view_module": "@jupyter-widgets/base",
            "_view_module_version": "1.2.0",
            "_view_name": "StyleView",
            "description_width": ""
          }
        }
      }
    }
  },
  "nbformat": 4,
  "nbformat_minor": 0
}
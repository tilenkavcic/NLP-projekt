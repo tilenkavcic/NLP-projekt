{
 "cells": [
  {
   "cell_type": "code",
   "execution_count": 14,
   "metadata": {},
   "outputs": [],
   "source": [
    "import json\n",
    "\n",
    "f = open(\"./sl/karst_slo_stanza_train.json\")\n",
    "data = json.load(f)\n",
    "f.close()"
   ]
  },
  {
   "cell_type": "code",
   "execution_count": 15,
   "metadata": {},
   "outputs": [
    {
     "name": "stdout",
     "output_type": "stream",
     "text": [
      "2707\n"
     ]
    }
   ],
   "source": [
    "print(len(data))"
   ]
  },
  {
   "cell_type": "code",
   "execution_count": 16,
   "metadata": {},
   "outputs": [],
   "source": [
    "sentence_dict = {}\n",
    "for d in data:\n",
    "    key = (\" \").join(d[\"token\"])\n",
    "    if key not in sentence_dict:\n",
    "        sentence_dict[key] = [d]\n",
    "    else:\n",
    "        sentence_dict[key].append(d)"
   ]
  },
  {
   "cell_type": "code",
   "execution_count": 17,
   "metadata": {},
   "outputs": [
    {
     "name": "stdout",
     "output_type": "stream",
     "text": [
      "747\n"
     ]
    }
   ],
   "source": [
    "print(len(sentence_dict))"
   ]
  },
  {
   "cell_type": "code",
   "execution_count": 18,
   "metadata": {},
   "outputs": [],
   "source": [
    "new_data = []\n",
    "counter = 0\n",
    "for key in sentence_dict:\n",
    "    generic_data = sentence_dict[key][0]\n",
    "    token = generic_data[\"token\"]\n",
    "    pos = generic_data[\"stanford_pos\"]\n",
    "    obj_start = generic_data[\"obj_start\"]\n",
    "    obj_end = generic_data[\"obj_end\"]\n",
    "    relation_names = []\n",
    "    relation_starts = []\n",
    "    relation_ends = []\n",
    "\n",
    "    for relation in sentence_dict[key]:\n",
    "        relation_names.append(relation[\"relation\"])\n",
    "        relation_starts.append(relation[\"subj_start\"])\n",
    "        relation_ends.append(relation[\"subj_end\"])\n",
    "\n",
    "    curr_data = {\n",
    "        \"index\": counter, \n",
    "        \"relation\": relation_names,\n",
    "        \"token\": token,\n",
    "        \"stanford_pos\": pos,\n",
    "        \"subj_start\": relation_starts, \n",
    "        \"subj_end\": relation_ends,\n",
    "        \"obj_start\": obj_start,\n",
    "        \"obj_end\": obj_end\n",
    "    }\n",
    "    new_data.append(curr_data)\n",
    "    counter += 1"
   ]
  },
  {
   "cell_type": "code",
   "execution_count": 19,
   "metadata": {},
   "outputs": [],
   "source": [
    "with open('./sl/karst_slo_tagger_train.json', 'w+', encoding='utf-8') as f:\n",
    "    json.dump(new_data, f, ensure_ascii=False, indent=4)"
   ]
  }
 ],
 "metadata": {
  "interpreter": {
   "hash": "81794d4967e6c3204c66dcd87b604927b115b27c00565d3d43f05ba2f3a2cb0d"
  },
  "kernelspec": {
   "display_name": "Python 3.9.5 64-bit",
   "language": "python",
   "name": "python3"
  },
  "language_info": {
   "codemirror_mode": {
    "name": "ipython",
    "version": 3
   },
   "file_extension": ".py",
   "mimetype": "text/x-python",
   "name": "python",
   "nbconvert_exporter": "python",
   "pygments_lexer": "ipython3",
   "version": "3.9.5"
  },
  "orig_nbformat": 4
 },
 "nbformat": 4,
 "nbformat_minor": 2
}
